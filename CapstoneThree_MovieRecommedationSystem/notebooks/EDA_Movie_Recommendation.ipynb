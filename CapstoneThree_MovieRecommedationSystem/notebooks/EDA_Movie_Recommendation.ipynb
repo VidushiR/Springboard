{
 "cells": [
  {
   "cell_type": "code",
   "execution_count": 1,
   "id": "a724b08e-2a3b-4f84-b83d-b3ad5d2fb278",
   "metadata": {},
   "outputs": [],
   "source": [
    "#Load the libraries\n",
    "\n",
    "import pandas as pd\n",
    "import numpy as np\n",
    "import matplotlib.pyplot as plt\n",
    "import seaborn as sns\n"
   ]
  },
  {
   "cell_type": "code",
   "execution_count": null,
   "id": "d07f116f-cef7-42f0-9066-d3ab01647c88",
   "metadata": {},
   "outputs": [],
   "source": [
    "#Load the Data\n",
    "ratings = pd.read_csv('ratings.csv')         # You still need to upload this\n",
    "movies = pd.read_csv('movie.csv')\n",
    "tags = pd.read_csv('tag.csv')\n",
    "genome_tags = pd.read_csv('genome_tags.csv')\n",
    "genome_scores = pd.read_csv('genome_scores.csv')\n"
   ]
  }
 ],
 "metadata": {
  "kernelspec": {
   "display_name": "Python 3 (ipykernel)",
   "language": "python",
   "name": "python3"
  },
  "language_info": {
   "codemirror_mode": {
    "name": "ipython",
    "version": 3
   },
   "file_extension": ".py",
   "mimetype": "text/x-python",
   "name": "python",
   "nbconvert_exporter": "python",
   "pygments_lexer": "ipython3",
   "version": "3.12.7"
  }
 },
 "nbformat": 4,
 "nbformat_minor": 5
}
