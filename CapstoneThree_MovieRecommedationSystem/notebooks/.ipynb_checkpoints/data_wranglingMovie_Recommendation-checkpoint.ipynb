{
 "cells": [
  {
   "cell_type": "markdown",
   "id": "b590f0bc-7510-4829-83bd-fff8429e0d63",
   "metadata": {},
   "source": [
    "Analysis and data cleaning:"
   ]
  },
  {
   "cell_type": "code",
   "execution_count": 1,
   "id": "3bd02bd2-2299-484a-bc3b-202e6021eeb2",
   "metadata": {},
   "outputs": [],
   "source": [
    "#import libraries\n",
    "import pandas as pd"
   ]
  },
  {
   "cell_type": "code",
   "execution_count": 3,
   "id": "02274d6a-aa75-4cd3-bfd8-df3491f9ec57",
   "metadata": {},
   "outputs": [],
   "source": [
    "# Load all uploaded CSV files\n",
    "genome_scores = pd.read_csv(\"../data/raw/genome_scores.csv\")\n",
    "genome_tags = pd.read_csv(\"../data/raw/genome_tags.csv\")\n",
    "link = pd.read_csv(\"../data/raw/link.csv\")\n",
    "movie = pd.read_csv(\"../data/raw/movie.csv\")\n",
    "tag = pd.read_csv(\"../data/raw/tag.csv\")\n",
    "ratings = pd.read_csv(\"../data/raw/rating.csv\")"
   ]
  },
  {
   "cell_type": "code",
   "execution_count": 5,
   "id": "a38ec10d-9e07-49fc-bc23-932fb964ee99",
   "metadata": {},
   "outputs": [
    {
     "name": "stdout",
     "output_type": "stream",
     "text": [
      "<class 'pandas.core.frame.DataFrame'>\n",
      "RangeIndex: 11709768 entries, 0 to 11709767\n",
      "Data columns (total 3 columns):\n",
      " #   Column     Dtype  \n",
      "---  ------     -----  \n",
      " 0   movieId    int64  \n",
      " 1   tagId      int64  \n",
      " 2   relevance  float64\n",
      "dtypes: float64(1), int64(2)\n",
      "memory usage: 268.0 MB\n",
      "<class 'pandas.core.frame.DataFrame'>\n",
      "RangeIndex: 1128 entries, 0 to 1127\n",
      "Data columns (total 2 columns):\n",
      " #   Column  Non-Null Count  Dtype \n",
      "---  ------  --------------  ----- \n",
      " 0   tagId   1128 non-null   int64 \n",
      " 1   tag     1128 non-null   object\n",
      "dtypes: int64(1), object(1)\n",
      "memory usage: 17.8+ KB\n"
     ]
    }
   ],
   "source": [
    "# Check the basic info of each dataset to understand structure and potential wrangling needs\n",
    "genome_scores_info = genome_scores.info()\n",
    "genome_tags_info = genome_tags.info()"
   ]
  },
  {
   "cell_type": "code",
   "execution_count": 7,
   "id": "2af96b69-8fe9-4118-baea-b22cd172b23b",
   "metadata": {},
   "outputs": [
    {
     "name": "stdout",
     "output_type": "stream",
     "text": [
      "<class 'pandas.core.frame.DataFrame'>\n",
      "RangeIndex: 27278 entries, 0 to 27277\n",
      "Data columns (total 3 columns):\n",
      " #   Column   Non-Null Count  Dtype  \n",
      "---  ------   --------------  -----  \n",
      " 0   movieId  27278 non-null  int64  \n",
      " 1   imdbId   27278 non-null  int64  \n",
      " 2   tmdbId   27026 non-null  float64\n",
      "dtypes: float64(1), int64(2)\n",
      "memory usage: 639.5 KB\n"
     ]
    }
   ],
   "source": [
    "# Getting info for Link_info\n",
    "link_info = link.info()"
   ]
  },
  {
   "cell_type": "code",
   "execution_count": 9,
   "id": "3ee78b2f-cb80-4e33-96d0-17f00dbd21db",
   "metadata": {},
   "outputs": [
    {
     "name": "stdout",
     "output_type": "stream",
     "text": [
      "<class 'pandas.core.frame.DataFrame'>\n",
      "RangeIndex: 27278 entries, 0 to 27277\n",
      "Data columns (total 3 columns):\n",
      " #   Column   Non-Null Count  Dtype \n",
      "---  ------   --------------  ----- \n",
      " 0   movieId  27278 non-null  int64 \n",
      " 1   title    27278 non-null  object\n",
      " 2   genres   27278 non-null  object\n",
      "dtypes: int64(1), object(2)\n",
      "memory usage: 639.5+ KB\n"
     ]
    }
   ],
   "source": [
    "#Geting info for movie_info\n",
    "movie_info = movie.info()"
   ]
  },
  {
   "cell_type": "code",
   "execution_count": 11,
   "id": "6d22ee38-080b-44e9-ab86-535af6abad11",
   "metadata": {},
   "outputs": [
    {
     "name": "stdout",
     "output_type": "stream",
     "text": [
      "<class 'pandas.core.frame.DataFrame'>\n",
      "RangeIndex: 465564 entries, 0 to 465563\n",
      "Data columns (total 4 columns):\n",
      " #   Column     Non-Null Count   Dtype \n",
      "---  ------     --------------   ----- \n",
      " 0   userId     465564 non-null  int64 \n",
      " 1   movieId    465564 non-null  int64 \n",
      " 2   tag        465548 non-null  object\n",
      " 3   timestamp  465564 non-null  object\n",
      "dtypes: int64(2), object(2)\n",
      "memory usage: 14.2+ MB\n"
     ]
    }
   ],
   "source": [
    "#Getting info for tag_info\n",
    "tag_info = tag.info()"
   ]
  },
  {
   "cell_type": "code",
   "execution_count": 13,
   "id": "0002dde7-a579-44b4-acdf-fc9890848c1b",
   "metadata": {},
   "outputs": [
    {
     "name": "stdout",
     "output_type": "stream",
     "text": [
      "<class 'pandas.core.frame.DataFrame'>\n",
      "RangeIndex: 20000263 entries, 0 to 20000262\n",
      "Data columns (total 4 columns):\n",
      " #   Column     Dtype  \n",
      "---  ------     -----  \n",
      " 0   userId     int64  \n",
      " 1   movieId    int64  \n",
      " 2   rating     float64\n",
      " 3   timestamp  object \n",
      "dtypes: float64(1), int64(2), object(1)\n",
      "memory usage: 610.4+ MB\n"
     ]
    }
   ],
   "source": [
    "#Getting info for rating_info\n",
    "rating_info = ratings.info()"
   ]
  },
  {
   "cell_type": "code",
   "execution_count": 15,
   "id": "0c5472e1-60d7-4ca8-b349-f5208665f03d",
   "metadata": {},
   "outputs": [
    {
     "data": {
      "text/plain": [
       "{'genome_scores_head':    movieId  tagId  relevance\n",
       " 0        1      1    0.02500\n",
       " 1        1      2    0.02500\n",
       " 2        1      3    0.05775\n",
       " 3        1      4    0.09675\n",
       " 4        1      5    0.14675,\n",
       " 'genome_tags_head':    tagId           tag\n",
       " 0      1           007\n",
       " 1      2  007 (series)\n",
       " 2      3  18th century\n",
       " 3      4         1920s\n",
       " 4      5         1930s,\n",
       " 'link_head':    movieId  imdbId   tmdbId\n",
       " 0        1  114709    862.0\n",
       " 1        2  113497   8844.0\n",
       " 2        3  113228  15602.0\n",
       " 3        4  114885  31357.0\n",
       " 4        5  113041  11862.0,\n",
       " 'movie_head':    movieId                               title  \\\n",
       " 0        1                    Toy Story (1995)   \n",
       " 1        2                      Jumanji (1995)   \n",
       " 2        3             Grumpier Old Men (1995)   \n",
       " 3        4            Waiting to Exhale (1995)   \n",
       " 4        5  Father of the Bride Part II (1995)   \n",
       " \n",
       "                                         genres  \n",
       " 0  Adventure|Animation|Children|Comedy|Fantasy  \n",
       " 1                   Adventure|Children|Fantasy  \n",
       " 2                               Comedy|Romance  \n",
       " 3                         Comedy|Drama|Romance  \n",
       " 4                                       Comedy  ,\n",
       " 'tag_head':    userId  movieId            tag            timestamp\n",
       " 0      18     4141    Mark Waters  2009-04-24 18:19:40\n",
       " 1      65      208      dark hero  2013-05-10 01:41:18\n",
       " 2      65      353      dark hero  2013-05-10 01:41:19\n",
       " 3      65      521  noir thriller  2013-05-10 01:39:43\n",
       " 4      65      592      dark hero  2013-05-10 01:41:18,\n",
       " 'rating_head':    userId  movieId  rating            timestamp\n",
       " 0       1        2     3.5  2005-04-02 23:53:47\n",
       " 1       1       29     3.5  2005-04-02 23:31:16\n",
       " 2       1       32     3.5  2005-04-02 23:33:39\n",
       " 3       1       47     3.5  2005-04-02 23:32:07\n",
       " 4       1       50     3.5  2005-04-02 23:29:40}"
      ]
     },
     "execution_count": 15,
     "metadata": {},
     "output_type": "execute_result"
    }
   ],
   "source": [
    "# Show the first few rows of each dataset\n",
    "sample_data = {\n",
    "    \"genome_scores_head\": genome_scores.head(),\n",
    "    \"genome_tags_head\": genome_tags.head(),\n",
    "    \"link_head\": link.head(),\n",
    "    \"movie_head\": movie.head(),\n",
    "    \"tag_head\": tag.head(),\n",
    "    \"rating_head\": ratings.head()\n",
    "}\n",
    "\n",
    "sample_data"
   ]
  },
  {
   "cell_type": "code",
   "execution_count": 61,
   "id": "533f926b-509c-4a97-8fb5-0d08bfa303ee",
   "metadata": {},
   "outputs": [
    {
     "name": "stdout",
     "output_type": "stream",
     "text": [
      "Missing values in rating file:\n",
      "userId       0\n",
      "movieId      0\n",
      "rating       0\n",
      "timestamp    0\n",
      "dtype: int64\n",
      "\n",
      "\n",
      "Missing values in genome_score:\n",
      "movieId      0\n",
      "tagId        0\n",
      "relevance    0\n",
      "dtype: int64\n",
      "\n",
      "\n",
      "Missing values in genome_tags:\n",
      "tagId    0\n",
      "tag      0\n",
      "dtype: int64\n",
      "\n",
      "\n",
      "Missing values in link:\n",
      "movieId      0\n",
      "imdbId       0\n",
      "tmdbId     252\n",
      "dtype: int64\n",
      "\n",
      "\n",
      "Missing values in movie:\n",
      "movieId    0\n",
      "title      0\n",
      "genres     0\n",
      "dtype: int64\n",
      "\n",
      "\n",
      "Missing values in tag:\n",
      "userId        0\n",
      "movieId       0\n",
      "tag          16\n",
      "timestamp     0\n",
      "dtype: int64\n"
     ]
    }
   ],
   "source": [
    "# Check for missing values\n",
    "\n",
    "print(\"Missing values in rating file:\")\n",
    "print(ratings.isnull().sum())\n",
    "print(\"\\n\")  # Blank line\n",
    "\n",
    "print(\"Missing values in genome_score:\")\n",
    "print(genome_scores.isnull().sum())\n",
    "print(\"\\n\")  # Blank line\n",
    "\n",
    "print(\"Missing values in genome_tags:\")\n",
    "print(genome_tags.isnull().sum())\n",
    "print(\"\\n\")\n",
    "\n",
    "print(\"Missing values in link:\")\n",
    "print(link.isnull().sum())\n",
    "print(\"\\n\")\n",
    "\n",
    "print(\"Missing values in movie:\")\n",
    "print(movie.isnull().sum())\n",
    "print(\"\\n\")\n",
    "\n",
    "print(\"Missing values in tag:\")\n",
    "print(tag.isnull().sum())\n"
   ]
  },
  {
   "cell_type": "code",
   "execution_count": 17,
   "id": "eb053e02-3bcc-4fb3-a929-eb69448dacff",
   "metadata": {},
   "outputs": [
    {
     "name": "stdout",
     "output_type": "stream",
     "text": [
      "Side-by-side missing values:\n"
     ]
    },
    {
     "data": {
      "text/html": [
       "<div>\n",
       "<style scoped>\n",
       "    .dataframe tbody tr th:only-of-type {\n",
       "        vertical-align: middle;\n",
       "    }\n",
       "\n",
       "    .dataframe tbody tr th {\n",
       "        vertical-align: top;\n",
       "    }\n",
       "\n",
       "    .dataframe thead th {\n",
       "        text-align: right;\n",
       "    }\n",
       "</style>\n",
       "<table border=\"1\" class=\"dataframe\">\n",
       "  <thead>\n",
       "    <tr style=\"text-align: right;\">\n",
       "      <th></th>\n",
       "      <th>ratings</th>\n",
       "      <th>genome_scores</th>\n",
       "      <th>genome_tags</th>\n",
       "      <th>link</th>\n",
       "      <th>movie</th>\n",
       "      <th>tag</th>\n",
       "    </tr>\n",
       "  </thead>\n",
       "  <tbody>\n",
       "    <tr>\n",
       "      <th>userId</th>\n",
       "      <td>0.0</td>\n",
       "      <td>NaN</td>\n",
       "      <td>NaN</td>\n",
       "      <td>NaN</td>\n",
       "      <td>NaN</td>\n",
       "      <td>0.0</td>\n",
       "    </tr>\n",
       "    <tr>\n",
       "      <th>movieId</th>\n",
       "      <td>0.0</td>\n",
       "      <td>0.0</td>\n",
       "      <td>NaN</td>\n",
       "      <td>0.0</td>\n",
       "      <td>0.0</td>\n",
       "      <td>0.0</td>\n",
       "    </tr>\n",
       "    <tr>\n",
       "      <th>rating</th>\n",
       "      <td>0.0</td>\n",
       "      <td>NaN</td>\n",
       "      <td>NaN</td>\n",
       "      <td>NaN</td>\n",
       "      <td>NaN</td>\n",
       "      <td>NaN</td>\n",
       "    </tr>\n",
       "    <tr>\n",
       "      <th>timestamp</th>\n",
       "      <td>0.0</td>\n",
       "      <td>NaN</td>\n",
       "      <td>NaN</td>\n",
       "      <td>NaN</td>\n",
       "      <td>NaN</td>\n",
       "      <td>0.0</td>\n",
       "    </tr>\n",
       "    <tr>\n",
       "      <th>tagId</th>\n",
       "      <td>NaN</td>\n",
       "      <td>0.0</td>\n",
       "      <td>0.0</td>\n",
       "      <td>NaN</td>\n",
       "      <td>NaN</td>\n",
       "      <td>NaN</td>\n",
       "    </tr>\n",
       "    <tr>\n",
       "      <th>relevance</th>\n",
       "      <td>NaN</td>\n",
       "      <td>0.0</td>\n",
       "      <td>NaN</td>\n",
       "      <td>NaN</td>\n",
       "      <td>NaN</td>\n",
       "      <td>NaN</td>\n",
       "    </tr>\n",
       "    <tr>\n",
       "      <th>tag</th>\n",
       "      <td>NaN</td>\n",
       "      <td>NaN</td>\n",
       "      <td>0.0</td>\n",
       "      <td>NaN</td>\n",
       "      <td>NaN</td>\n",
       "      <td>16.0</td>\n",
       "    </tr>\n",
       "    <tr>\n",
       "      <th>imdbId</th>\n",
       "      <td>NaN</td>\n",
       "      <td>NaN</td>\n",
       "      <td>NaN</td>\n",
       "      <td>0.0</td>\n",
       "      <td>NaN</td>\n",
       "      <td>NaN</td>\n",
       "    </tr>\n",
       "    <tr>\n",
       "      <th>tmdbId</th>\n",
       "      <td>NaN</td>\n",
       "      <td>NaN</td>\n",
       "      <td>NaN</td>\n",
       "      <td>252.0</td>\n",
       "      <td>NaN</td>\n",
       "      <td>NaN</td>\n",
       "    </tr>\n",
       "    <tr>\n",
       "      <th>title</th>\n",
       "      <td>NaN</td>\n",
       "      <td>NaN</td>\n",
       "      <td>NaN</td>\n",
       "      <td>NaN</td>\n",
       "      <td>0.0</td>\n",
       "      <td>NaN</td>\n",
       "    </tr>\n",
       "    <tr>\n",
       "      <th>genres</th>\n",
       "      <td>NaN</td>\n",
       "      <td>NaN</td>\n",
       "      <td>NaN</td>\n",
       "      <td>NaN</td>\n",
       "      <td>0.0</td>\n",
       "      <td>NaN</td>\n",
       "    </tr>\n",
       "  </tbody>\n",
       "</table>\n",
       "</div>"
      ],
      "text/plain": [
       "           ratings  genome_scores  genome_tags   link  movie   tag\n",
       "userId         0.0            NaN          NaN    NaN    NaN   0.0\n",
       "movieId        0.0            0.0          NaN    0.0    0.0   0.0\n",
       "rating         0.0            NaN          NaN    NaN    NaN   NaN\n",
       "timestamp      0.0            NaN          NaN    NaN    NaN   0.0\n",
       "tagId          NaN            0.0          0.0    NaN    NaN   NaN\n",
       "relevance      NaN            0.0          NaN    NaN    NaN   NaN\n",
       "tag            NaN            NaN          0.0    NaN    NaN  16.0\n",
       "imdbId         NaN            NaN          NaN    0.0    NaN   NaN\n",
       "tmdbId         NaN            NaN          NaN  252.0    NaN   NaN\n",
       "title          NaN            NaN          NaN    NaN    0.0   NaN\n",
       "genres         NaN            NaN          NaN    NaN    0.0   NaN"
      ]
     },
     "metadata": {},
     "output_type": "display_data"
    }
   ],
   "source": [
    "# Create Series of missing values\n",
    "rating_nulls = ratings.isnull().sum()\n",
    "genome_nulls = genome_scores.isnull().sum()\n",
    "tags_nulls = genome_tags.isnull().sum()\n",
    "link_nulls = link.isnull().sum()\n",
    "movie_nulls = movie.isnull().sum()\n",
    "tag_nulls = tag.isnull().sum()\n",
    "\n",
    "# Combine side-by-side into a single DataFrame\n",
    "missing_df = pd.concat([\n",
    "    rating_nulls.rename(\"ratings\"),\n",
    "    genome_nulls.rename(\"genome_scores\"),\n",
    "    tags_nulls.rename(\"genome_tags\"),\n",
    "    link_nulls.rename(\"link\"),\n",
    "    movie_nulls.rename(\"movie\"),\n",
    "    tag_nulls.rename(\"tag\")\n",
    "], axis=1)\n",
    "\n",
    "# Display the combined result\n",
    "print(\"Side-by-side missing values:\")\n",
    "display(missing_df)"
   ]
  },
  {
   "cell_type": "code",
   "execution_count": 19,
   "id": "b16fbadc-f16b-4d5d-b060-40fc13059800",
   "metadata": {},
   "outputs": [
    {
     "data": {
      "text/html": [
       "<div>\n",
       "<style scoped>\n",
       "    .dataframe tbody tr th:only-of-type {\n",
       "        vertical-align: middle;\n",
       "    }\n",
       "\n",
       "    .dataframe tbody tr th {\n",
       "        vertical-align: top;\n",
       "    }\n",
       "\n",
       "    .dataframe thead th {\n",
       "        text-align: right;\n",
       "    }\n",
       "</style>\n",
       "<table border=\"1\" class=\"dataframe\">\n",
       "  <thead>\n",
       "    <tr style=\"text-align: right;\">\n",
       "      <th></th>\n",
       "      <th>ratings</th>\n",
       "      <th>genome_scores</th>\n",
       "      <th>genome_tags</th>\n",
       "      <th>link</th>\n",
       "      <th>movie</th>\n",
       "      <th>tag</th>\n",
       "    </tr>\n",
       "  </thead>\n",
       "  <tbody>\n",
       "    <tr>\n",
       "      <th>tag</th>\n",
       "      <td>NaN</td>\n",
       "      <td>NaN</td>\n",
       "      <td>0.0</td>\n",
       "      <td>NaN</td>\n",
       "      <td>NaN</td>\n",
       "      <td>16.0</td>\n",
       "    </tr>\n",
       "    <tr>\n",
       "      <th>tmdbId</th>\n",
       "      <td>NaN</td>\n",
       "      <td>NaN</td>\n",
       "      <td>NaN</td>\n",
       "      <td>252.0</td>\n",
       "      <td>NaN</td>\n",
       "      <td>NaN</td>\n",
       "    </tr>\n",
       "  </tbody>\n",
       "</table>\n",
       "</div>"
      ],
      "text/plain": [
       "        ratings  genome_scores  genome_tags   link  movie   tag\n",
       "tag         NaN            NaN          0.0    NaN    NaN  16.0\n",
       "tmdbId      NaN            NaN          NaN  252.0    NaN   NaN"
      ]
     },
     "execution_count": 19,
     "metadata": {},
     "output_type": "execute_result"
    }
   ],
   "source": [
    "#only rows with non-zero missing values\n",
    "missing_df[(missing_df > 0).any(axis=1)]"
   ]
  },
  {
   "cell_type": "markdown",
   "id": "91c58489-777c-476c-8069-61d71fcc0ce3",
   "metadata": {},
   "source": [
    "tag.csv had 16 missing values in the tag column. Since tags are user-generated and essential for interpretability, we dropped rows where tag is missing"
   ]
  },
  {
   "cell_type": "code",
   "execution_count": 21,
   "id": "96771bec-f52a-426e-89d5-902714e7e540",
   "metadata": {},
   "outputs": [],
   "source": [
    "#Handle missing values\n",
    "tag_cleaned = tag.dropna(subset=['tag'])"
   ]
  },
  {
   "cell_type": "markdown",
   "id": "da412fc6-7472-42cc-85c3-9798e07e59d4",
   "metadata": {},
   "source": [
    "link.csv had 252 missing values in the tmdbId column. \n",
    "These IDs are needed for mapping MovieLens movies to external databases (like TMDb). \n",
    "We removed rows where tmdbId is missing to prevent mismatches in later integrations."
   ]
  },
  {
   "cell_type": "code",
   "execution_count": 23,
   "id": "a562ddf6-191b-4fdf-be34-14238c1840d6",
   "metadata": {},
   "outputs": [],
   "source": [
    "# removes rows from the link DataFrame\n",
    "link_cleaned = link.dropna(subset=['tmdbId'])"
   ]
  },
  {
   "cell_type": "markdown",
   "id": "3485f9a0-7512-44c4-ae3f-d8dc3a41e25b",
   "metadata": {},
   "source": [
    "In the above code, it removes rows from the link DataFrame where the tmdbId column has missing (NaN) values."
   ]
  },
  {
   "cell_type": "code",
   "execution_count": 25,
   "id": "3d11a329-7790-49d8-888a-bdcd29cf711e",
   "metadata": {},
   "outputs": [
    {
     "data": {
      "text/plain": [
       "movieId    0\n",
       "imdbId     0\n",
       "tmdbId     0\n",
       "dtype: int64"
      ]
     },
     "execution_count": 25,
     "metadata": {},
     "output_type": "execute_result"
    }
   ],
   "source": [
    "#check for missing values (NaNs) in each column of the cleaned DataFrames:\n",
    "tag_cleaned.isnull().sum()\n",
    "link_cleaned.isnull().sum()"
   ]
  },
  {
   "cell_type": "markdown",
   "id": "1c28e7b1-8ec0-4aef-bbd1-8cdd41e64102",
   "metadata": {},
   "source": [
    "In below code, Each drop_duplicates() call removes rows that have identical values across all columns."
   ]
  },
  {
   "cell_type": "code",
   "execution_count": 29,
   "id": "eb7b4db8-2723-4350-a9d2-8417b1f30177",
   "metadata": {},
   "outputs": [],
   "source": [
    "#Remove duplicates\n",
    "tag_cleaned = tag_cleaned.drop_duplicates()\n",
    "genome_scores_cleaned = genome_scores.drop_duplicates()\n",
    "movie_cleaned = movie.drop_duplicates()\n",
    "genome_tags_cleaned = genome_tags.drop_duplicates()\n",
    "link_cleaned = link_cleaned.drop_duplicates()\n",
    "# Remove missing values and duplicates from rating data\n",
    "rating_cleaned = ratings.dropna().drop_duplicates()\n"
   ]
  },
  {
   "cell_type": "code",
   "execution_count": 31,
   "id": "562c7352-f174-40c6-9294-d28887e8975f",
   "metadata": {},
   "outputs": [],
   "source": [
    "# Handle outliers in rating column using IQR method\n",
    "Q1 = rating_cleaned['rating'].quantile(0.25)\n",
    "Q3 = rating_cleaned['rating'].quantile(0.75)\n",
    "IQR = Q3 - Q1\n",
    "\n",
    "lower_bound = Q1 - 1.5 * IQR\n",
    "upper_bound = Q3 + 1.5 * IQR\n",
    "\n",
    "# Remove outliers\n",
    "rating_cleaned = rating_cleaned[(rating_cleaned['rating'] >= lower_bound) & \n",
    "                                (rating_cleaned['rating'] <= upper_bound)]\n"
   ]
  },
  {
   "cell_type": "markdown",
   "id": "f9e217ff-2524-470d-aa17-60e99b61e958",
   "metadata": {},
   "source": [
    "## Handling Outliers\n",
    "To ensure data quality, we removed outliers in the `rating` column using the IQR method. \n",
    "\n",
    "This helps reduce skewed values that may affect model performance.\n",
    "\n",
    "Outliers are defined as any ratings below Q1 - 1.5*IQR or above Q3 + 1.5*IQR.\n"
   ]
  },
  {
   "cell_type": "code",
   "execution_count": 49,
   "id": "46882bf3-3951-4582-8201-7e3e15cea392",
   "metadata": {},
   "outputs": [],
   "source": [
    "#Convert Timestamps\n",
    "rating_cleaned['timestamp'] = pd.to_datetime(rating_cleaned['timestamp'], unit='s', errors='coerce')\n",
    "tag_cleaned['timestamp'] = pd.to_datetime(tag_cleaned['timestamp'], errors='coerce')\n"
   ]
  },
  {
   "cell_type": "code",
   "execution_count": 51,
   "id": "28d41557-8f6e-4a49-9e82-2368e1f2304b",
   "metadata": {},
   "outputs": [],
   "source": [
    "import os\n",
    "os.makedirs(\"../data/interim\", exist_ok=True)\n",
    "\n",
    "# Save all cleaned data\n",
    "tag_cleaned.to_csv(\"../data/interim/tag_cleaned.csv\", index=False)\n",
    "movie_cleaned.to_csv(\"../data/interim/movie_cleaned.csv\", index=False)\n",
    "link_cleaned.to_csv(\"../data/interim/link_cleaned.csv\", index=False)\n",
    "genome_scores_cleaned.to_csv(\"../data/interim/genome_scores_cleaned.csv\", index=False)\n",
    "genome_tags_cleaned.to_csv(\"../data/interim/genome_tags_cleaned.csv\", index=False)\n",
    "\n",
    "# Convert timestamp and save rating_cleaned\n",
    "rating_cleaned['timestamp'] = pd.to_datetime(rating_cleaned['timestamp'], errors='coerce')\n",
    "rating_cleaned.to_csv(\"../data/interim/rating_cleaned.csv\", index=False, date_format='%Y-%m-%d %H:%M:%S')\n"
   ]
  },
  {
   "cell_type": "code",
   "execution_count": 53,
   "id": "02863886-cf7d-484c-b3d6-9e9649b4c4b9",
   "metadata": {},
   "outputs": [],
   "source": [
    "#Parse columns\n",
    "movie_cleaned['year'] = movie_cleaned['title'].str.extract(r'\\((\\d{4})\\)').astype('Int64')\n",
    "tag_cleaned['timestamp'] = pd.to_datetime(tag_cleaned['timestamp'], errors='coerce')"
   ]
  },
  {
   "cell_type": "code",
   "execution_count": 55,
   "id": "91168b31-b77d-412a-8f11-777986a0ff0c",
   "metadata": {},
   "outputs": [],
   "source": [
    "#Merge two datasets — genome_scores_cleaned and genome_tags_cleaned — using the common column tagId.\n",
    "genome_merged = pd.merge(genome_scores_cleaned, genome_tags_cleaned, on='tagId', how='left')\n"
   ]
  },
  {
   "cell_type": "code",
   "execution_count": 57,
   "id": "1922b685-8d39-4453-bc93-ce2e68fab426",
   "metadata": {},
   "outputs": [
    {
     "name": "stdout",
     "output_type": "stream",
     "text": [
      "Sparsity of the user-item matrix: 0.9948\n"
     ]
    }
   ],
   "source": [
    "# Calculate Sparsity of the Ratings Matrix\n",
    "import pandas as pd\n",
    "\n",
    "# Load cleaned ratings\n",
    "rating_cleaned = pd.read_csv('../data/interim/rating_cleaned.csv')\n",
    "\n",
    "# Number of users and movies\n",
    "num_users = rating_cleaned['userId'].nunique()\n",
    "num_movies = rating_cleaned['movieId'].nunique()\n",
    "\n",
    "# Total possible interactions\n",
    "total_possible = num_users * num_movies\n",
    "\n",
    "# Actual ratings\n",
    "total_actual = len(rating_cleaned)\n",
    "\n",
    "# Sparsity calculation\n",
    "sparsity = 1 - (total_actual / total_possible)\n",
    "print(f\"Sparsity of the user-item matrix: {sparsity:.4f}\")\n"
   ]
  },
  {
   "cell_type": "markdown",
   "id": "327cb3a7-07a9-47fb-9486-2698cd7045e8",
   "metadata": {},
   "source": [
    "## Sparsity of the User-Item Matrix\n",
    "\n",
    "In recommendation systems, understanding the sparsity of the user-item matrix is essential. \n",
    "\n",
    "Sparsity refers to how many interactions (ratings) are actually present compared to the total possible interactions between users and items.\n",
    "\n",
    "In our dataset:\n",
    "- **Number of unique users:** `num_users`\n",
    "- **Number of unique movies:** `num_movies`\n",
    "- **Actual number of ratings:** `total_actual`\n",
    "\n",
    "After calculating, we find that the **sparsity of the matrix is 0.9948**, indicating that only about **0.5% of the possible user-movie combinations** have a rating. \n"
   ]
  },
  {
   "cell_type": "code",
   "execution_count": 61,
   "id": "25e958fc-ef68-4ba3-a083-387d5b539fe4",
   "metadata": {},
   "outputs": [
    {
     "name": "stdout",
     "output_type": "stream",
     "text": [
      "tag_cleaned shape: (465548, 4)\n",
      "movie_cleaned shape: (27278, 4)\n",
      "link_cleaned shape: (27026, 3)\n",
      "genome_scores_cleaned shape: (11709768, 3)\n",
      "genome_tags_cleaned shape: (1128, 2)\n",
      "rating_cleaned shape: (19080406, 4)\n"
     ]
    }
   ],
   "source": [
    "#  Shape checks for cleaned DataFrames\n",
    "print(\"tag_cleaned shape:\", tag_cleaned.shape)\n",
    "print(\"movie_cleaned shape:\", movie_cleaned.shape)\n",
    "print(\"link_cleaned shape:\", link_cleaned.shape)\n",
    "print(\"genome_scores_cleaned shape:\", genome_scores_cleaned.shape)\n",
    "print(\"genome_tags_cleaned shape:\", genome_tags_cleaned.shape)\n",
    "print(\"rating_cleaned shape:\", rating_cleaned.shape)\n"
   ]
  },
  {
   "cell_type": "markdown",
   "id": "41488649-b816-4169-820b-46c204ba52b8",
   "metadata": {},
   "source": [
    "- In this notebook, I completed all the required data wrangling steps to prepare the MovieLens dataset for building a personalized movie recommendation system. \n",
    "\n",
    "- The goal was to clean, format, and organize the data to ensure consistency, reliability, and readiness for exploratory analysis and modeling.\n",
    "\n",
    "- The dataset includes over 20 million user-movie interactions, making it suitable for training collaborative filtering and deep learning models.\n",
    "\n",
    "- The high sparsity (99.46%) indicates that most users rate only a small subset of movies — this validates the need for techniques like matrix factorization, implicit feedback modeling, and hybrid approaches.\n",
    "\n",
    "- The genome tag relevance data provides rich content features, enabling us to build a content-based and ultimately a hybrid recommendation system and alter on deep learning-based models such as Neural Collaborative Filtering."
   ]
  },
  {
   "cell_type": "code",
   "execution_count": 63,
   "id": "f7521b7b-5e9a-4ea8-ac3d-8a499cff4632",
   "metadata": {},
   "outputs": [],
   "source": [
    "### Save All Final Processed Files to /processed Folder for final, modeling-ready datasets\n",
    "import os\n",
    "os.makedirs(\"../data/processed\", exist_ok=True)\n",
    "\n",
    "# Save ratings with timestamp and year\n",
    "ratings_processed = rating_cleaned.copy()\n",
    "ratings_processed['timestamp'] = pd.to_datetime(ratings_processed['timestamp'], errors='coerce')\n",
    "ratings_processed['year'] = ratings_processed['timestamp'].dt.year\n",
    "ratings_processed.to_csv(\"../data/processed/ratings_processed.csv\", index=False, date_format='%Y-%m-%d %H:%M:%S')\n",
    "\n",
    "# Save movie_cleaned\n",
    "movie_cleaned.to_csv(\"../data/processed/movies_processed.csv\", index=False)\n",
    "\n",
    "# Save tag_cleaned\n",
    "tag_cleaned.to_csv(\"../data/processed/tags_processed.csv\", index=False)\n",
    "\n",
    "# Save genome_scores_cleaned\n",
    "genome_scores_cleaned.to_csv(\"../data/processed/genome_scores_processed.csv\", index=False)\n",
    "\n",
    "# Save genome_tags_cleaned\n",
    "genome_tags_cleaned.to_csv(\"../data/processed/genome_tags_processed.csv\", index=False)\n",
    "\n"
   ]
  },
  {
   "cell_type": "code",
   "execution_count": null,
   "id": "032a0bef-7988-4d5d-840b-ea28aadf73ef",
   "metadata": {},
   "outputs": [],
   "source": []
  }
 ],
 "metadata": {
  "kernelspec": {
   "display_name": "Python 3 (ipykernel)",
   "language": "python",
   "name": "python3"
  },
  "language_info": {
   "codemirror_mode": {
    "name": "ipython",
    "version": 3
   },
   "file_extension": ".py",
   "mimetype": "text/x-python",
   "name": "python",
   "nbconvert_exporter": "python",
   "pygments_lexer": "ipython3",
   "version": "3.12.7"
  }
 },
 "nbformat": 4,
 "nbformat_minor": 5
}
