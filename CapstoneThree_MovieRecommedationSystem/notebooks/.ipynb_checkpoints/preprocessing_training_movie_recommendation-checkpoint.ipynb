{
 "cells": [
  {
   "cell_type": "markdown",
   "id": "dc9461ed-e785-4f2f-8a75-8a87b3971790",
   "metadata": {},
   "source": [
    "step-by-step preprocessing plan and code that prepares Movie dataset for:\n",
    "\n",
    "- Categorical features (genres)\n",
    "\n",
    "- TF-IDF (for genres as text)\n",
    "\n",
    "- Hybrid inputs (numerical + textual)\n",
    "\n",
    "- Deep Learning\n",
    "\n",
    "- LLM embeddings (e.g., using Sentence-BERT)"
   ]
  },
  {
   "cell_type": "code",
   "execution_count": 1,
   "id": "8e3c5196-c5d3-445b-b0cf-45664480bcea",
   "metadata": {},
   "outputs": [],
   "source": [
    "# Step: 1, Import Libraries\n",
    "# Core libraries\n",
    "import pandas as pd\n",
    "import numpy as np\n",
    "import matplotlib.pyplot as plt\n",
    "import seaborn as sns\n",
    "\n",
    "# Preprocessing\n",
    "from sklearn.preprocessing import StandardScaler\n",
    "from sklearn.model_selection import train_test_split\n",
    "from sklearn.feature_extraction.text import TfidfVectorizer\n",
    "\n",
    "# LLM embeddings\n",
    "from sentence_transformers import SentenceTransformer\n"
   ]
  },
  {
   "cell_type": "code",
   "execution_count": 5,
   "id": "1e0bd27c-b1b5-4320-9e8e-cfb836dc35ed",
   "metadata": {},
   "outputs": [
    {
     "name": "stdout",
     "output_type": "stream",
     "text": [
      "'genres' in df.columns: True\n"
     ]
    }
   ],
   "source": [
    "# Step: Load processed ratings (scaled) and movies file\n",
    "df = pd.read_csv(r\"C:\\Users\\vidus\\Projects\\Springboard\\CapstoneThree_MovieRecommedationSystem\\data\\processed\\df_scaled.csv\")\n",
    "movies = pd.read_csv(r\"C:\\Users\\vidus\\Projects\\Springboard\\CapstoneThree_MovieRecommedationSystem\\data\\processed\\movies_processed.csv\")\n",
    "\n",
    "# Step: Merge 'genres' back into df using 'movieId'\n",
    "df = df.merge(movies[['movieId', 'genres']], on='movieId', how='left')\n",
    "\n",
    "# Step: Verify if 'genres' is now present\n",
    "print(\"'genres' in df.columns:\", 'genres' in df.columns)\n"
   ]
  },
  {
   "cell_type": "code",
   "execution_count": 7,
   "id": "51d77076-7890-4ce6-9998-14b2da993d12",
   "metadata": {},
   "outputs": [
    {
     "name": "stdout",
     "output_type": "stream",
     "text": [
      "Ratings: (19080406, 5)\n",
      "Movies: (27278, 4)\n"
     ]
    }
   ],
   "source": [
    "#Step 2: Load Cleaned Ratings and Movies Files\n",
    "ratings = pd.read_csv(r\"C:\\Users\\vidus\\Projects\\Springboard\\CapstoneThree_MovieRecommedationSystem\\data\\processed\\ratings_processed.csv\")\n",
    "movies = pd.read_csv(r\"C:\\Users\\vidus\\Projects\\Springboard\\CapstoneThree_MovieRecommedationSystem\\data\\processed\\movies_processed.csv\")\n",
    "\n",
    "print(\"Ratings:\", ratings.shape)\n",
    "print(\"Movies:\", movies.shape)\n"
   ]
  },
  {
   "cell_type": "code",
   "execution_count": 11,
   "id": "b5816726-fe9b-4857-814f-2308fa876e40",
   "metadata": {},
   "outputs": [
    {
     "name": "stdout",
     "output_type": "stream",
     "text": [
      "   userId  movieId  rating  timestamp  year_x  \\\n",
      "0       1        2     3.5        NaN     NaN   \n",
      "1       1       29     3.5        NaN     NaN   \n",
      "2       1       32     3.5        NaN     NaN   \n",
      "3       1       47     3.5        NaN     NaN   \n",
      "4       1       50     3.5        NaN     NaN   \n",
      "\n",
      "                                               title  \\\n",
      "0                                     Jumanji (1995)   \n",
      "1  City of Lost Children, The (Cité des enfants p...   \n",
      "2          Twelve Monkeys (a.k.a. 12 Monkeys) (1995)   \n",
      "3                        Seven (a.k.a. Se7en) (1995)   \n",
      "4                         Usual Suspects, The (1995)   \n",
      "\n",
      "                                   genres  year_y  \n",
      "0              Adventure|Children|Fantasy  1995.0  \n",
      "1  Adventure|Drama|Fantasy|Mystery|Sci-Fi  1995.0  \n",
      "2                 Mystery|Sci-Fi|Thriller  1995.0  \n",
      "3                        Mystery|Thriller  1995.0  \n",
      "4                  Crime|Mystery|Thriller  1995.0  \n"
     ]
    }
   ],
   "source": [
    "# Step 3: Merge and Save Ratings + Movies\n",
    "df = pd.merge(ratings, movies, on='movieId')\n",
    "df.to_csv(r\"C:\\Users\\vidus\\Projects\\Springboard\\CapstoneThree_MovieRecommedationSystem\\data\\processed\\merged_ratings_movies.csv\", index=False)\n",
    "# Display the first 5 rows\n",
    "print(df.head())"
   ]
  },
  {
   "cell_type": "markdown",
   "id": "b1092154-b350-4202-8525-666459bef1ed",
   "metadata": {},
   "source": [
    "We merge the ratings and movies data on the common movieId field. This gives us a unified dataset containing user feedback, movie titles, and genre metadata."
   ]
  },
  {
   "cell_type": "code",
   "execution_count": 13,
   "id": "014f1d64-a3a1-4b22-8fc7-e2804e760b4d",
   "metadata": {},
   "outputs": [
    {
     "name": "stdout",
     "output_type": "stream",
     "text": [
      "'genres' in df columns? False\n"
     ]
    }
   ],
   "source": [
    "# Ensure 'genres' column is in the DataFrame by merging again\n",
    "df = pd.merge(df, movies[['movieId', 'genres']], on='movieId', how='left')\n",
    "\n",
    "# Confirm that 'genres' exists now\n",
    "print(\"'genres' in df columns?\", 'genres' in df.columns)\n"
   ]
  },
  {
   "cell_type": "markdown",
   "id": "9cc0a8f3-657a-4b5e-8edf-3f63f4378c57",
   "metadata": {},
   "source": [
    "###  Step 4: One-Hot Encoding of the `genres` Categorical Feature\n",
    "\n",
    "The `genres` field contains multiple genres per movie, separated by a pipe (`|`), such as `'Action|Adventure|Thriller'`.\n",
    "\n",
    "To make this usable in machine learning models, we split and one-hot encode the genres using `str.get_dummies()`, which creates binary columns for each genre.\n",
    "\n",
    "This step prepares the data for traditional ML models (like Random Forests or XGBoost) that do not natively handle multi-label categorical text.\n",
    "\n",
    "We also ensure the `genres` column is re-attached explicitly before transformation in case it was lost during earlier merges.\n"
   ]
  },
  {
   "cell_type": "code",
   "execution_count": 17,
   "id": "35108b13-ef8b-43ab-b9af-ef193e04dc06",
   "metadata": {},
   "outputs": [
    {
     "name": "stdout",
     "output_type": "stream",
     "text": [
      "Added genre columns: ['(no genres listed)', 'Action', 'Adventure', 'Animation', 'Children', 'Comedy', 'Crime', 'Documentary', 'Drama', 'Fantasy', 'Film-Noir', 'Horror', 'IMAX', 'Musical', 'Mystery', 'Romance', 'Sci-Fi', 'Thriller', 'War', 'Western']\n"
     ]
    }
   ],
   "source": [
    "#Step 4: Categorical Feature — One-Hot Encoding for genres\n",
    "# One-hot encoding (creates genre columns like 'Comedy', 'Action', etc.)\n",
    "# Step 4: Categorical Feature — One-Hot Encoding for genres\n",
    "\n",
    "# 1. Reload the necessary files\n",
    "movies = pd.read_csv(r\"C:\\Users\\vidus\\Projects\\Springboard\\CapstoneThree_MovieRecommedationSystem\\data\\processed\\movies_processed.csv\")\n",
    "df = pd.read_csv(r\"C:\\Users\\vidus\\Projects\\Springboard\\CapstoneThree_MovieRecommedationSystem\\data\\processed\\df_scaled.csv\")\n",
    "\n",
    "# 2. Merge genres column if not already present\n",
    "if 'genres' not in df.columns:\n",
    "    df = df.merge(movies[['movieId', 'genres']], on='movieId', how='left')\n",
    "\n",
    "# 3. One-hot encode the genres\n",
    "genre_dummies = df['genres'].str.get_dummies(sep='|')\n",
    "\n",
    "# 4. Drop the original 'genres' column and concat encoded columns\n",
    "df = pd.concat([df.drop('genres', axis=1), genre_dummies], axis=1)\n",
    "\n",
    "# 5. Save to new file\n",
    "df.to_csv(r\"C:\\Users\\vidus\\Projects\\Springboard\\CapstoneThree_MovieRecommedationSystem\\data\\processed\\df_with_genre_dummies.csv\", index=False)\n",
    "\n",
    "# 6. Confirm\n",
    "print(\"Added genre columns:\", genre_dummies.columns.tolist())\n"
   ]
  },
  {
   "cell_type": "markdown",
   "id": "a79c1d1b-fd3b-49a0-aee7-dbe6ac83ab47",
   "metadata": {},
   "source": [
    "This above step 4 One Hot Encoding of the genres creates binary columns for each genre like 'Action', 'Comedy', 'Drama', etc., making it suitable for machine learning models."
   ]
  },
  {
   "cell_type": "code",
   "execution_count": 33,
   "id": "4b8b867b-2539-4fae-9f99-667924c08b7f",
   "metadata": {},
   "outputs": [
    {
     "data": {
      "image/png": "[encoded data removed]",
      "text/plain": [
       "<Figure size 640x480 with 1 Axes>"
      ]
     },
     "metadata": {},
     "output_type": "display_data"
    }
   ],
   "source": [
    "# Visualize using the original unscaled ratings\n",
    "df_unscaled = pd.read_csv(r\"C:\\Users\\vidus\\Projects\\Springboard\\CapstoneThree_MovieRecommedationSystem\\data\\processed\\merged_ratings_movies.csv\")\n",
    "\n",
    "sns.histplot(df_unscaled['rating'], kde=True, bins=30)\n",
    "plt.title(\"Distribution of Original Ratings\")\n",
    "plt.xlabel(\"Rating\")\n",
    "plt.ylabel(\"Frequency\")\n",
    "plt.grid(True)\n",
    "plt.show()\n"
   ]
  },
  {
   "cell_type": "markdown",
   "id": "6714d028-56cb-4235-a339-6d6929be3a15",
   "metadata": {},
   "source": [
    "###  Step 5: Distribution of `Original rating` – Numerical Feature\n",
    "\n",
    "The histogram and KDE (Kernel Density Estimation) plot above display the distribution of the `rating` feature across all user-movie interactions.\n",
    "\n",
    "**Observations:**\n",
    "- The ratings are **discrete and rounded**, mainly centered around values like 1.0, 2.0, 3.0, 4.0, and 5.0.\n",
    "- The most common ratings are **3.0 and 4.0**, indicating a possible bias toward neutral or positive feedback.\n",
    "- This **non-Gaussian distribution** with distinct peaks suggests that standardization may help scale the data, but special care should be taken if a model assumes continuity or normality.\n",
    "\n",
    "This plot helps determine the need for transformation or normalization before using deep learning or hybrid modeling techniques.\n",
    "\n",
    "- Ratings are discrete: 1.0, 2.0, 3.0, 4.0, 5.0.\n",
    "\n",
    "- Most common: 3.0 and 4.0.\n",
    "\n",
    "- Non-Gaussian, multi-peaked distribution."
   ]
  },
  {
   "cell_type": "code",
   "execution_count": 24,
   "id": "3667d23d-21da-4a46-85b2-55fbbfc744f7",
   "metadata": {},
   "outputs": [
    {
     "data": {
      "image/png": "[encoded data removed]",
      "text/plain": [
       "<Figure size 800x400 with 1 Axes>"
      ]
     },
     "metadata": {},
     "output_type": "display_data"
    }
   ],
   "source": [
    "# Step 6: Visualize Distribution of Numerical Features\n",
    "# Select numeric columns to visualize\n",
    "numeric_cols = ['rating']  # Add more columns if needed\n",
    "\n",
    "# Plot distribution of numeric features\n",
    "import matplotlib.pyplot as plt\n",
    "import seaborn as sns\n",
    "\n",
    "for col in numeric_cols:\n",
    "    plt.figure(figsize=(8, 4))\n",
    "    sns.histplot(df[col], kde=True, bins=30)\n",
    "    #plt.title(f'Distribution of {col}')\n",
    "    plt.title(\"Distribution of Scaled Rating Values\")\n",
    "    plt.xlabel(col)\n",
    "    plt.ylabel('Frequency')\n",
    "    plt.grid(True)\n",
    "    plt.tight_layout()\n",
    "    plt.show()\n"
   ]
  },
  {
   "cell_type": "markdown",
   "id": "b60d0bba-b38e-4d25-8c2b-9e186257d8ae",
   "metadata": {},
   "source": [
    "Distribution of Scaled Rating Values:\n",
    "\n",
    "Shows the rating feature after applying StandardScaler.\n",
    "\n",
    "Values are now centered around 0.\n",
    "\n",
    "Peaks remain at original rating intervals.\n",
    "\n",
    "Useful for ML models sensitive to feature scale."
   ]
  },
  {
   "cell_type": "code",
   "execution_count": 37,
   "id": "3644d25f-4933-4821-bb31-0e1a8e79e538",
   "metadata": {},
   "outputs": [
    {
     "data": {
      "text/html": [
       "<div>\n",
       "<style scoped>\n",
       "    .dataframe tbody tr th:only-of-type {\n",
       "        vertical-align: middle;\n",
       "    }\n",
       "\n",
       "    .dataframe tbody tr th {\n",
       "        vertical-align: top;\n",
       "    }\n",
       "\n",
       "    .dataframe thead th {\n",
       "        text-align: right;\n",
       "    }\n",
       "</style>\n",
       "<table border=\"1\" class=\"dataframe\">\n",
       "  <thead>\n",
       "    <tr style=\"text-align: right;\">\n",
       "      <th></th>\n",
       "      <th>rating</th>\n",
       "    </tr>\n",
       "  </thead>\n",
       "  <tbody>\n",
       "    <tr>\n",
       "      <th>count</th>\n",
       "      <td>1.908041e+07</td>\n",
       "    </tr>\n",
       "    <tr>\n",
       "      <th>mean</th>\n",
       "      <td>2.983322e-17</td>\n",
       "    </tr>\n",
       "    <tr>\n",
       "      <th>std</th>\n",
       "      <td>1.000000e+00</td>\n",
       "    </tr>\n",
       "    <tr>\n",
       "      <th>min</th>\n",
       "      <td>-2.405690e+00</td>\n",
       "    </tr>\n",
       "    <tr>\n",
       "      <th>25%</th>\n",
       "      <td>-7.300677e-01</td>\n",
       "    </tr>\n",
       "    <tr>\n",
       "      <th>50%</th>\n",
       "      <td>3.870136e-01</td>\n",
       "    </tr>\n",
       "    <tr>\n",
       "      <th>75%</th>\n",
       "      <td>3.870136e-01</td>\n",
       "    </tr>\n",
       "    <tr>\n",
       "      <th>max</th>\n",
       "      <td>1.504095e+00</td>\n",
       "    </tr>\n",
       "  </tbody>\n",
       "</table>\n",
       "</div>"
      ],
      "text/plain": [
       "             rating\n",
       "count  1.908041e+07\n",
       "mean   2.983322e-17\n",
       "std    1.000000e+00\n",
       "min   -2.405690e+00\n",
       "25%   -7.300677e-01\n",
       "50%    3.870136e-01\n",
       "75%    3.870136e-01\n",
       "max    1.504095e+00"
      ]
     },
     "execution_count": 37,
     "metadata": {},
     "output_type": "execute_result"
    }
   ],
   "source": [
    "# Step 7: Standardize Numerical Features (For Deep Learning)\n",
    "from sklearn.preprocessing import StandardScaler\n",
    "\n",
    "# Select numerical features (e.g., rating)\n",
    "numeric_cols = ['rating']\n",
    "\n",
    "# Initialize scaler\n",
    "scaler = StandardScaler()\n",
    "\n",
    "# Fit and transform\n",
    "df[numeric_cols] = scaler.fit_transform(df[numeric_cols])\n",
    "\n",
    "# Save checkpoint\n",
    "df.to_csv(r\"C:\\Users\\vidus\\Projects\\Springboard\\CapstoneThree_MovieRecommedationSystem\\data\\processed\\df_scaled.csv\", index=False)\n",
    "\n",
    "# Check transformation\n",
    "df[numeric_cols].describe()\n"
   ]
  },
  {
   "cell_type": "markdown",
   "id": "7dfa4881-9c59-4c4c-95fa-320bbc00f8dd",
   "metadata": {},
   "source": [
    "### Step 7: Standardize Numerical Features (For Deep Learning)\n",
    "\n",
    "Standardization is an essential preprocessing step when working with neural networks and other models that are sensitive to feature scaling. In this step, we standardize the `rating` column using `StandardScaler` from `sklearn`.\n",
    "\n",
    "- **Why?**\n",
    "  - StandardScaler transforms the feature to have zero mean and unit variance.\n",
    "  - Helps models converge faster and improves training stability, especially in deep learning.\n",
    "\n",
    "- **Result:**\n",
    "  - After transformation, the `rating` column has a mean close to 0 and standard deviation of 1, as shown in the `.describe()` output.\n"
   ]
  },
  {
   "cell_type": "code",
   "execution_count": 40,
   "id": "93585ded-3da6-4143-9850-5ee851a414c1",
   "metadata": {},
   "outputs": [],
   "source": [
    "# Step 8: TF-IDF Vectorization of genres (for NLP-style hybrid modeling)\n",
    "import warnings\n",
    "warnings.filterwarnings('ignore', category=UserWarning, module='sklearn.feature_extraction.text')\n",
    "\n",
    "import pandas as pd\n",
    "from sklearn.feature_extraction.text import TfidfVectorizer\n",
    "from scipy import sparse\n",
    "import joblib\n",
    "\n",
    "# Load your movies file that includes genres\n",
    "movies = pd.read_csv(r\"C:\\Users\\vidus\\Projects\\Springboard\\CapstoneThree_MovieRecommedationSystem\\data\\processed\\movies_processed.csv\")\n",
    "\n",
    "# Reload scaled ratings dataframe\n",
    "df = pd.read_csv(r\"C:\\Users\\vidus\\Projects\\Springboard\\CapstoneThree_MovieRecommedationSystem\\data\\processed\\df_scaled.csv\")\n",
    "\n",
    "# Merge genres using movieId\n",
    "df = df.merge(movies[['movieId', 'genres']], on='movieId', how='left')\n",
    "\n",
    "# Apply TF-IDF to the genres column\n",
    "tfidf = TfidfVectorizer(tokenizer=lambda x: x.split('|'))\n",
    "tfidf_matrix = tfidf.fit_transform(df['genres'].fillna(''))  # This is a sparse matrix\n",
    "\n",
    "# Save sparse matrix to disk\n",
    "sparse.save_npz(\n",
    "    r\"C:\\Users\\vidus\\Projects\\Springboard\\CapstoneThree_MovieRecommedationSystem\\data\\processed\\tfidf_sparse_genres.npz\",\n",
    "    tfidf_matrix\n",
    ")\n",
    "\n",
    "# Save feature names (for future merging or model input reference)\n",
    "joblib.dump(\n",
    "    tfidf.get_feature_names_out(),\n",
    "    r\"C:\\Users\\vidus\\Projects\\Springboard\\CapstoneThree_MovieRecommedationSystem\\data\\processed\\tfidf_feature_names.pkl\"\n",
    ")\n",
    "\n",
    "# Save the original df without trying to merge dense matrix\n",
    "df.drop(columns='genres').to_csv(\n",
    "    r\"C:\\Users\\vidus\\Projects\\Springboard\\CapstoneThree_MovieRecommedationSystem\\data\\processed\\df_metadata_only.csv\",\n",
    "    index=False\n",
    ")\n"
   ]
  },
  {
   "cell_type": "code",
   "execution_count": 42,
   "id": "01899fa8-f2cc-4e26-8e55-5db2268c5d80",
   "metadata": {},
   "outputs": [],
   "source": [
    "# Step 9: Encode User and Movie IDs for Deep Learning\n",
    "# Convert userId and movieId to numeric indices so they can be embedded later:\n",
    "\n",
    "from sklearn.preprocessing import LabelEncoder\n",
    "\n",
    "# Encode user and movie IDs\n",
    "df['userId_enc'] = LabelEncoder().fit_transform(df['userId'])\n",
    "df['movieId_enc'] = LabelEncoder().fit_transform(df['movieId'])\n"
   ]
  },
  {
   "cell_type": "code",
   "execution_count": 46,
   "id": "a201b355-b0d9-420d-861f-110245089dca",
   "metadata": {},
   "outputs": [],
   "source": [
    "# save this to \n",
    "df.to_csv(r\"C:\\Users\\vidus\\Projects\\Springboard\\CapstoneThree_MovieRecommedationSystem\\data\\processed\\df_with_encoded_ids.csv\", index=False)\n"
   ]
  },
  {
   "cell_type": "code",
   "execution_count": null,
   "id": "d94215a3-12cf-48c1-ad0a-86281c7ff0c6",
   "metadata": {},
   "outputs": [],
   "source": [
    "# Step 10: Train-Test Split for Modeling\n",
    "# Prepare the final data splits for training and evaluation:\n",
    "\n",
    "from sklearn.model_selection import train_test_split\n",
    "\n",
    "# Define features and target\n",
    "X = df[['userId_enc', 'movieId_enc', 'rating']]  # Add more features if using a hybrid model\n",
    "y = df['rating']\n",
    "\n",
    "# You may want to stratify by userId if doing classification\n",
    "train_df, test_df = train_test_split(df, test_size=0.2, random_state=42)\n",
    "\n",
    "# Save these if needed\n",
    "train_df.to_csv(\".../train_data.csv\", index=False)\n",
    "test_df.to_csv(\".../test_data.csv\", index=False)\n"
   ]
  },
  {
   "cell_type": "markdown",
   "id": "58aaef4e-089b-4b34-ace7-e42df32b17ed",
   "metadata": {},
   "source": [
    "##  Preprocessing Summary\n",
    "\n",
    "All necessary preprocessing steps have been completed to prepare the dataset for three types of recommendation models:\n",
    "\n",
    "- **One-Hot Encoding** of genres for basic feature enrichment\n",
    "- **TF-IDF Vectorization** of genres for hybrid modeling\n",
    "- **Standardization** of the `rating` column for deep learning models\n",
    "- **Label Encoding** of `userId` and `movieId` for embedding layers\n",
    "- **Saved Artifacts**:\n",
    "  - `df_scaled.csv` – main dataset with encoded IDs and standardized ratings\n",
    "  - `df_with_genre_dummies.csv` – for traditional models\n",
    "  - `tfidf_sparse_genres.npz` – for hybrid models\n",
    "  - `tfidf_feature_names.pkl` – feature reference\n",
    "  - `df_metadata_only.csv` – metadata for modeling use\n",
    "\n",
    "---\n",
    "\n",
    " The data is now ready for:\n",
    "- Deep learning models - Use userId_enc and movieId_enc with Embedding layers in Keras or PyTorch.\n",
    "using Keras or PyTorch\n",
    "\n",
    "- Hybrid models - Use content + collaborative filtering\n",
    "→ Build models combining genre TF-IDF and user-item interactions.\n",
    "\n",
    "combining collaborative + content features\n",
    "- LLM-based models using genre text and sentence embeddings\n",
    "- Use a pre-trained model like BERT or sentence-transformers to get genre/movie embeddings.\n",
    "\n"
   ]
  },
  {
   "cell_type": "code",
   "execution_count": 54,
   "id": "5b719cd4-f31b-4252-a334-cf193622aaa2",
   "metadata": {},
   "outputs": [],
   "source": [
    "# Checkpoint Saved \n",
    "\n",
    "# Save final checkpoint\n",
    "df.to_csv(r\"C:\\Users\\vidus\\Projects\\Springboard\\CapstoneThree_MovieRecommedationSystem\\data\\processed\\final_preprocessed_df.csv\", index=False)\n"
   ]
  },
  {
   "cell_type": "code",
   "execution_count": null,
   "id": "ab11e898-01fc-4b58-8a33-905585615fe9",
   "metadata": {},
   "outputs": [],
   "source": []
  }
 ],
 "metadata": {
  "kernelspec": {
   "display_name": "Python 3 (ipykernel)",
   "language": "python",
   "name": "python3"
  },
  "language_info": {
   "codemirror_mode": {
    "name": "ipython",
    "version": 3
   },
   "file_extension": ".py",
   "mimetype": "text/x-python",
   "name": "python",
   "nbconvert_exporter": "python",
   "pygments_lexer": "ipython3",
   "version": "3.12.7"
  }
 },
 "nbformat": 4,
 "nbformat_minor": 5
}
