{
 "cells": [
  {
   "cell_type": "code",
   "execution_count": 1,
   "id": "015a0ebf-5c4a-4964-97c0-eb8b4372c945",
   "metadata": {},
   "outputs": [
    {
     "data": {
      "text/html": [
       "<div>\n",
       "<style scoped>\n",
       "    .dataframe tbody tr th:only-of-type {\n",
       "        vertical-align: middle;\n",
       "    }\n",
       "\n",
       "    .dataframe tbody tr th {\n",
       "        vertical-align: top;\n",
       "    }\n",
       "\n",
       "    .dataframe thead th {\n",
       "        text-align: right;\n",
       "    }\n",
       "</style>\n",
       "<table border=\"1\" class=\"dataframe\">\n",
       "  <thead>\n",
       "    <tr style=\"text-align: right;\">\n",
       "      <th></th>\n",
       "      <th>city</th>\n",
       "      <th>trips_in_first_30_days</th>\n",
       "      <th>signup_date</th>\n",
       "      <th>avg_rating_of_driver</th>\n",
       "      <th>avg_surge</th>\n",
       "      <th>last_trip_date</th>\n",
       "      <th>phone</th>\n",
       "      <th>surge_pct</th>\n",
       "      <th>ultimate_black_user</th>\n",
       "      <th>weekday_pct</th>\n",
       "      <th>avg_dist</th>\n",
       "      <th>avg_rating_by_driver</th>\n",
       "    </tr>\n",
       "  </thead>\n",
       "  <tbody>\n",
       "    <tr>\n",
       "      <th>0</th>\n",
       "      <td>King's Landing</td>\n",
       "      <td>4</td>\n",
       "      <td>2014-01-25</td>\n",
       "      <td>4.7</td>\n",
       "      <td>1.10</td>\n",
       "      <td>2014-06-17</td>\n",
       "      <td>iPhone</td>\n",
       "      <td>15.4</td>\n",
       "      <td>True</td>\n",
       "      <td>46.2</td>\n",
       "      <td>3.67</td>\n",
       "      <td>5.0</td>\n",
       "    </tr>\n",
       "    <tr>\n",
       "      <th>1</th>\n",
       "      <td>Astapor</td>\n",
       "      <td>0</td>\n",
       "      <td>2014-01-29</td>\n",
       "      <td>5.0</td>\n",
       "      <td>1.00</td>\n",
       "      <td>2014-05-05</td>\n",
       "      <td>Android</td>\n",
       "      <td>0.0</td>\n",
       "      <td>False</td>\n",
       "      <td>50.0</td>\n",
       "      <td>8.26</td>\n",
       "      <td>5.0</td>\n",
       "    </tr>\n",
       "    <tr>\n",
       "      <th>2</th>\n",
       "      <td>Astapor</td>\n",
       "      <td>3</td>\n",
       "      <td>2014-01-06</td>\n",
       "      <td>4.3</td>\n",
       "      <td>1.00</td>\n",
       "      <td>2014-01-07</td>\n",
       "      <td>iPhone</td>\n",
       "      <td>0.0</td>\n",
       "      <td>False</td>\n",
       "      <td>100.0</td>\n",
       "      <td>0.77</td>\n",
       "      <td>5.0</td>\n",
       "    </tr>\n",
       "    <tr>\n",
       "      <th>3</th>\n",
       "      <td>King's Landing</td>\n",
       "      <td>9</td>\n",
       "      <td>2014-01-10</td>\n",
       "      <td>4.6</td>\n",
       "      <td>1.14</td>\n",
       "      <td>2014-06-29</td>\n",
       "      <td>iPhone</td>\n",
       "      <td>20.0</td>\n",
       "      <td>True</td>\n",
       "      <td>80.0</td>\n",
       "      <td>2.36</td>\n",
       "      <td>4.9</td>\n",
       "    </tr>\n",
       "    <tr>\n",
       "      <th>4</th>\n",
       "      <td>Winterfell</td>\n",
       "      <td>14</td>\n",
       "      <td>2014-01-27</td>\n",
       "      <td>4.4</td>\n",
       "      <td>1.19</td>\n",
       "      <td>2014-03-15</td>\n",
       "      <td>Android</td>\n",
       "      <td>11.8</td>\n",
       "      <td>False</td>\n",
       "      <td>82.4</td>\n",
       "      <td>3.13</td>\n",
       "      <td>4.9</td>\n",
       "    </tr>\n",
       "  </tbody>\n",
       "</table>\n",
       "</div>"
      ],
      "text/plain": [
       "             city  trips_in_first_30_days signup_date  avg_rating_of_driver  \\\n",
       "0  King's Landing                       4  2014-01-25                   4.7   \n",
       "1         Astapor                       0  2014-01-29                   5.0   \n",
       "2         Astapor                       3  2014-01-06                   4.3   \n",
       "3  King's Landing                       9  2014-01-10                   4.6   \n",
       "4      Winterfell                      14  2014-01-27                   4.4   \n",
       "\n",
       "   avg_surge last_trip_date    phone  surge_pct  ultimate_black_user  \\\n",
       "0       1.10     2014-06-17   iPhone       15.4                 True   \n",
       "1       1.00     2014-05-05  Android        0.0                False   \n",
       "2       1.00     2014-01-07   iPhone        0.0                False   \n",
       "3       1.14     2014-06-29   iPhone       20.0                 True   \n",
       "4       1.19     2014-03-15  Android       11.8                False   \n",
       "\n",
       "   weekday_pct  avg_dist  avg_rating_by_driver  \n",
       "0         46.2      3.67                   5.0  \n",
       "1         50.0      8.26                   5.0  \n",
       "2        100.0      0.77                   5.0  \n",
       "3         80.0      2.36                   4.9  \n",
       "4         82.4      3.13                   4.9  "
      ]
     },
     "execution_count": 1,
     "metadata": {},
     "output_type": "execute_result"
    }
   ],
   "source": [
    "# Part 3 ‐ Predictive modeling\n",
    "\n",
    "# 1. Import Libraries\n",
    "import pandas as pd\n",
    "import numpy as np\n",
    "import matplotlib.pyplot as plt\n",
    "import seaborn as sns\n",
    "from datetime import datetime\n",
    "\n",
    "# For modeling\n",
    "from sklearn.model_selection import train_test_split\n",
    "from sklearn.ensemble import RandomForestClassifier\n",
    "from sklearn.metrics import classification_report, confusion_matrix, roc_auc_score\n",
    "\n",
    "# 2. Load the Dataset\n",
    "df = pd.read_json(\"ultimate_data_challenge.json\")\n",
    "df.head()\n"
   ]
  },
  {
   "cell_type": "markdown",
   "id": "12a72b97-880e-4d5c-9789-cea003fce509",
   "metadata": {},
   "source": [
    "###  Dataset Overview\n",
    "\n",
    "The dataset contains user-level information for those who signed up in **January 2014**, including:\n",
    "\n",
    "- **Trips and Ratings**: `trips_in_first_30_days`, `avg_rating_of_driver`\n",
    "- **Usage Patterns**: `avg_surge`, `surge_pct`, `weekday_pct`, `avg_dist`\n",
    "- **Dates**: `signup_date`, `last_trip_date`\n",
    "- **Device Info**: `phone` (iPhone or Android)\n",
    "- **User Tags**: `ultimate_black_user`\n",
    "- **Geography**: `city` (e.g., King's Landing, Astapor)\n",
    "\n",
    "This data will be used to analyze and predict user retention.\n"
   ]
  },
  {
   "cell_type": "code",
   "execution_count": 5,
   "id": "4f316f0f-7a01-4899-81b8-7942e8416306",
   "metadata": {},
   "outputs": [],
   "source": [
    "# 3. Data Cleaning & Feature Engineering\n",
    "\n",
    "# Convert date columns to datetime\n",
    "df['signup_date'] = pd.to_datetime(df['signup_date'])\n",
    "df['last_trip_date'] = pd.to_datetime(df['last_trip_date'])\n",
    "\n",
    "# Create 'retained' column: 1 if last_trip_date is within 30 days of max date\n",
    "max_date = df['last_trip_date'].max()\n",
    "df['retained'] = df['last_trip_date'] >= (max_date - pd.Timedelta(days=30))\n",
    "df['retained'] = df['retained'].astype(int)\n",
    "\n",
    "# Check null values\n",
    "df.isnull().sum()\n",
    "\n",
    "# Impute missing ratings with mean (or median)\n",
    "\n",
    "df['avg_rating_by_driver'] = df['avg_rating_by_driver'].fillna(df['avg_rating_by_driver'].mean())\n",
    "df['avg_rating_of_driver'] = df['avg_rating_of_driver'].fillna(df['avg_rating_of_driver'].mean())\n"
   ]
  },
  {
   "cell_type": "code",
   "execution_count": 7,
   "id": "18b2ea84-a25a-466a-9980-26a9f5abb9d0",
   "metadata": {},
   "outputs": [
    {
     "name": "stdout",
     "output_type": "stream",
     "text": [
      "Retention rate: 37.61%\n"
     ]
    },
    {
     "data": {
      "image/png": "[encoded data removed]",
      "text/plain": [
       "<Figure size 640x480 with 1 Axes>"
      ]
     },
     "metadata": {},
     "output_type": "display_data"
    },
    {
     "data": {
      "image/png": "[encoded data removed]",
      "text/plain": [
       "<Figure size 640x480 with 1 Axes>"
      ]
     },
     "metadata": {},
     "output_type": "display_data"
    }
   ],
   "source": [
    "# 4. Exploratory Data Analysis (EDA)\n",
    "# Retention rate\n",
    "retention_rate = df['retained'].mean()\n",
    "print(f\"Retention rate: {retention_rate:.2%}\")\n",
    "\n",
    "# Plot: Retention by city\n",
    "sns.barplot(x='city', y='retained', data=df)\n",
    "plt.title('Retention Rate by City')\n",
    "plt.show()\n",
    "\n",
    "# Plot: Retention by phone type\n",
    "sns.barplot(x='phone', y='retained', data=df)\n",
    "plt.title('Retention Rate by Phone Type')\n",
    "plt.show()\n"
   ]
  },
  {
   "cell_type": "markdown",
   "id": "950da774-d3d9-49b9-b7f6-2e36f31dbecc",
   "metadata": {},
   "source": [
    "Retention Analysis\n",
    "Overall Retention Rate\n",
    "37.61% of users were retained (i.e., took a trip in the 30 days prior to the data cutoff).\n",
    "\n",
    "Retention Rate by City\n",
    "King’s Landing shows the highest retention rate.\n",
    "\n",
    "Astapor has the lowest retention rate.\n",
    "\n",
    "Winterfell is in between.\n",
    "\n",
    "This suggests geographic differences influence user behavior.\n",
    "\n",
    "Retention Rate by Phone Type\n",
    "iPhone users are significantly more likely to be retained compared to Android users.\n",
    "\n",
    "This could indicate differences in user engagement or app experience across platforms.\n",
    "\n"
   ]
  },
  {
   "cell_type": "code",
   "execution_count": 9,
   "id": "cf8671bc-01dd-4ee4-8555-5d3237958437",
   "metadata": {},
   "outputs": [],
   "source": [
    "# 5. Prepare Features for Modeling\n",
    "\n",
    "# One-hot encode categorical variables\n",
    "df_model = pd.get_dummies(df, columns=['city', 'phone'], drop_first=True)\n",
    "\n",
    "# Drop columns not useful for prediction\n",
    "df_model.drop(['signup_date', 'last_trip_date'], axis=1, inplace=True)\n",
    "\n",
    "# Features and Target\n",
    "X = df_model.drop('retained', axis=1)\n",
    "y = df_model['retained']\n",
    "\n",
    "# Train-test split\n",
    "X_train, X_test, y_train, y_test = train_test_split(X, y, test_size=0.3, random_state=42)\n"
   ]
  },
  {
   "cell_type": "code",
   "execution_count": 11,
   "id": "203619e1-fea3-4a89-ab5e-d2e0b77d7305",
   "metadata": {},
   "outputs": [
    {
     "name": "stdout",
     "output_type": "stream",
     "text": [
      "[[7575 1804]\n",
      " [1938 3683]]\n",
      "              precision    recall  f1-score   support\n",
      "\n",
      "           0       0.80      0.81      0.80      9379\n",
      "           1       0.67      0.66      0.66      5621\n",
      "\n",
      "    accuracy                           0.75     15000\n",
      "   macro avg       0.73      0.73      0.73     15000\n",
      "weighted avg       0.75      0.75      0.75     15000\n",
      "\n",
      "ROC AUC Score: 0.8158144904607053\n"
     ]
    }
   ],
   "source": [
    "# 6. Train Predictive Model\n",
    "model = RandomForestClassifier(n_estimators=100, random_state=42)\n",
    "model.fit(X_train, y_train)\n",
    "\n",
    "# Predictions\n",
    "y_pred = model.predict(X_test)\n",
    "y_prob = model.predict_proba(X_test)[:,1]\n",
    "\n",
    "# Evaluation\n",
    "print(confusion_matrix(y_test, y_pred))\n",
    "print(classification_report(y_test, y_pred))\n",
    "print(\"ROC AUC Score:\", roc_auc_score(y_test, y_prob))\n"
   ]
  },
  {
   "cell_type": "markdown",
   "id": "9d40039d-ddb7-42a4-b439-5325f16146ec",
   "metadata": {},
   "source": [
    "Predictive Modeling\n",
    "Modeling Steps\n",
    "Model Used: Random Forest Classifier (100 trees, random_state=42)\n",
    "\n",
    "Train-Test Split: 70% training, 30% testing\n",
    "\n",
    "Features: One-hot encoded categorical variables (city, phone), dropped date columns.\n",
    "The model performs reasonably well with balanced precision and recall.\n",
    "\n",
    "ROC AUC of 0.82 indicates good discrimination between retained vs. non-retained users.\n"
   ]
  },
  {
   "cell_type": "code",
   "execution_count": 13,
   "id": "b75608d7-afca-460b-b11d-75e50af9d6ec",
   "metadata": {},
   "outputs": [
    {
     "data": {
      "image/png": "[encoded data removed]",
      "text/plain": [
       "<Figure size 1000x600 with 1 Axes>"
      ]
     },
     "metadata": {},
     "output_type": "display_data"
    }
   ],
   "source": [
    "# 7. Feature Importance\n",
    "importances = pd.Series(model.feature_importances_, index=X.columns)\n",
    "importances.sort_values(ascending=True).plot(kind='barh', figsize=(10,6))\n",
    "plt.title(\"Feature Importance\")\n",
    "plt.show()\n"
   ]
  },
  {
   "cell_type": "markdown",
   "id": "616100d3-2184-4e7d-b87b-36c97c881c99",
   "metadata": {},
   "source": [
    "Feature Importance:\n",
    "\n",
    "The Random Forest model identified the most influential features for predicting user retention:\n",
    "\n",
    "Top Predictors:\n",
    "\n",
    "avg_dist: Higher average distance per trip strongly correlates with retention.\n",
    "\n",
    "weekday_pct: Weekday activity is a strong signal of continued usage.\n",
    "\n",
    "avg_rating_by_driver: Reflects user behavior and satisfaction.\n",
    "\n",
    "surge_pct: Indicates exposure to dynamic pricing, possibly suggesting higher engagement.\n",
    "\n",
    "Less Impactful Features:\n",
    "\n",
    "User's phone type (phone_iphone)\n",
    "\n",
    "City-based features (e.g., city_Winterfell, city_King's Landing)\n",
    "\n",
    "ultimate_black_user: Least important in this model.\n",
    "\n",
    "These insights can help prioritize user targeting strategies and feature enhancements."
   ]
  },
  {
   "cell_type": "markdown",
   "id": "6fa85fa4-1794-4c2c-86d3-4c4cdfac45f6",
   "metadata": {},
   "source": [
    "# 8. Business Insights \n",
    "### Insights and Recommendations\n",
    "\n",
    "- Key predictors of retention include:\n",
    "  - **Number of trips in first 30 days**\n",
    "  - **Weekday trip %**\n",
    "  - **Average distance**\n",
    "  - **Ultimate Black usage**\n",
    "\n",
    "- Drivers with early engagement (multiple trips) are more likely to stay.\n",
    "\n",
    "### Suggestions for Ultimate:\n",
    "\n",
    "- Offer promotions or bonuses to encourage more trips in the **first 30 days**.\n",
    "- Target users with **low early engagement** for retention campaigns.\n",
    "- Encourage weekday usage and explore differences in city-specific retention.\n",
    "\n"
   ]
  },
  {
   "cell_type": "markdown",
   "id": "96d200cb-9cc3-471c-806d-b99f8f33e83f",
   "metadata": {},
   "source": [
    "Summary & Conclusion\n",
    "\n",
    "Goal: Predict whether a user will be retained (i.e., take a trip) within 6 months of signup.\n",
    "\n",
    "Retention Rate: Approximately 37.6% of users were retained.\n",
    "\n",
    "Model Used: Random Forest Classifier\n",
    "\n",
    "Accuracy: 75%\n",
    "\n",
    "ROC AUC Score: 0.82\n",
    "\n",
    "Key Predictive Features:\n",
    "\n",
    "avg_dist (average distance per trip)\n",
    "\n",
    "weekday_pct (percentage of weekday rides)\n",
    "\n",
    "avg_rating_by_driver\n",
    "\n",
    "Insights:\n",
    "\n",
    "Users who take longer trips or ride more frequently during weekdays are more likely to stay active.\n",
    "\n",
    "Higher driver ratings for users may indicate smoother experiences and better retention.\n",
    "\n",
    "Recommendation: Focus retention strategies on users with low weekday_pct or shorter average trip distances — they may need targeted incentives to stay engaged."
   ]
  },
  {
   "cell_type": "code",
   "execution_count": null,
   "id": "34cff602-4731-4686-83ca-d20f6d7a3ebc",
   "metadata": {},
   "outputs": [],
   "source": []
  }
 ],
 "metadata": {
  "kernelspec": {
   "display_name": "Python 3 (ipykernel)",
   "language": "python",
   "name": "python3"
  },
  "language_info": {
   "codemirror_mode": {
    "name": "ipython",
    "version": 3
   },
   "file_extension": ".py",
   "mimetype": "text/x-python",
   "name": "python",
   "nbconvert_exporter": "python",
   "pygments_lexer": "ipython3",
   "version": "3.12.7"
  }
 },
 "nbformat": 4,
 "nbformat_minor": 5
}
