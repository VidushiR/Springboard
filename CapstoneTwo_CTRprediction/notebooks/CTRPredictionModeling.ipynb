{
 "cells": [
  {
   "cell_type": "markdown",
   "id": "0dcd407c-7fbd-48a1-b774-ba79615798be",
   "metadata": {},
   "source": [
    "Click Thru Ratae Prediction - Modeling\n",
    "Capstone Project : Springboard Data Science career track\n",
    "Notebook by Vidushi Raval\n",
    "\n"
   ]
  },
  {
   "cell_type": "markdown",
   "id": "678d1896-ddf3-403c-be61-7057188f130c",
   "metadata": {},
   "source": [
    "Introduction:\n",
    "\n",
    "1. The Problem:\n",
    "\n",
    "Online advertising platforms aim to show ads that users are likely to click on to maximize engagement and revenue. \n",
    "\n",
    "However, click-through rates (CTR) are typically low, leading to inefficient ad spending. \n",
    "\n",
    "The goal of this project is to build a predictive model that classifies whether a user will click on an ad, helping improve ad targeting, reduce wasted impressions, and optimize marketing performance."
   ]
  },
  {
   "cell_type": "markdown",
   "id": "21e4f5ef-d6d4-4056-8b76-feb3dedd14af",
   "metadata": {},
   "source": [
    "2. The Data\n",
    "   \n",
    "The dataset used for this project comes from a Kaggle competition focused on click-through rate (CTR) prediction in online advertising. \n",
    "\n",
    "It contains millions of ad impressions and associated features related to users, ads, and devices. \n",
    "\n",
    "The goal is to predict whether a user will click on an ad (binary classification).\n",
    "\n",
    "Below are some of the key fields in the dataset:\n",
    "\n",
    "click – target variable; 1 if the ad was clicked, 0 otherwise\n",
    "\n",
    "C1 – anonymized categorical variable related to user behavior\n",
    "\n",
    "banner_pos – position of the ad banner on the page\n",
    "\n",
    "site_id, site_domain, site_category – identifiers related to the site where the ad was displayed\n",
    "\n",
    "app_id, app_domain, app_category – identifiers related to the app if ad was in-app\n",
    "\n",
    "device_id, device_ip, device_model – information about the user’s device\n",
    "\n",
    "device_type, device_conn_type – type of device and its connection\n",
    "\n",
    "C14 to C21 – anonymized categorical features for ads and users\n",
    "\n",
    "hour – timestamp of the ad impression in YYMMDDHH format (used to extract day, hour, weekday)\n",
    "\n",
    "To improve modeling, several additional features were engineered, such as:\n",
    "\n",
    "day – day of the month\n",
    "\n",
    "hour_of_day – hour of the impression\n",
    "\n",
    "weekday – day of the week\n",
    "\n",
    "The dataset is highly imbalanced, with a low proportion of positive (clicked) labels, making it a real-world challenge for classification models."
   ]
  },
  {
   "cell_type": "markdown",
   "id": "f0e0be42-4a4f-4fec-b54d-ffb780cd0fd7",
   "metadata": {},
   "source": [
    "3. The Questions of Interest\n",
    "   \n",
    "This analysis is organized around the following key questions to understand patterns in user behavior and improve click-through rate prediction:\n",
    "\n",
    "- What proportion of users actually click on ads?\n",
    "\n",
    "- Are there certain banner positions, site categories, or app domains that correlate with higher click rates?\n",
    "\n",
    "- Do specific device types, models, or connection types influence user engagement with ads?\n",
    "\n",
    "- Are certain hours of the day or days of the week associated with higher CTR?\n",
    "\n",
    "- How do anonymized features like C14 to C21 contribute to click prediction?\n",
    "\n",
    "- Does user behavior change between mobile apps and web platforms?\n",
    "\n",
    "- Can we identify patterns in ad impressions that lead to better targeting strategies?\n",
    "\n",
    "These questions help frame the modeling strategy and inform what features are most likely to improve prediction performance.\n",
    "\n"
   ]
  },
  {
   "cell_type": "markdown",
   "id": "38070e32-a26e-4a14-ab53-255f9f7483f2",
   "metadata": {},
   "source": [
    "4. Import the necessary libraries and the data:\n",
    "   \n",
    "To begin, we import the essential libraries and load the dataset into a Pandas DataFrame.\n",
    "\n",
    "The following steps include basic data wrangling and exploratory analysis. \n",
    "\n",
    "For a more in-depth EDA, please refer to the earlier section.\n",
    "Data Wrangling - \n",
    "https://github.com/VidushiR/Springboard/blob/main/Capstone_two/data_wrangling.ipynb\n",
    "\n",
    "Exploratory Analysis - \n",
    "https://github.com/VidushiR/Springboard/blob/main/Capstone_two/EDAforCTRPrediction.ipynb\n",
    "\n",
    "CTR-Pre-processingAndTrainingDataDevelopment - \n",
    "https://github.com/VidushiR/Springboard/blob/main/Capstone_two/CTR-Pre-processingAndTrainingDataDevelopment.ipynb"
   ]
  },
  {
   "cell_type": "code",
   "execution_count": 36,
   "id": "f44e0b96-fc7c-409b-a498-9aa8dd56d643",
   "metadata": {},
   "outputs": [],
   "source": [
    "# Import the necessary libraries and the data:\n",
    "\n",
    "\n",
    "# 1. Import required libraries\n",
    "import os\n",
    "import pandas as pd\n",
    "import numpy as np\n",
    "import seaborn as sns\n",
    "from sklearn.model_selection import GridSearchCV, StratifiedKFold\n",
    "from sklearn.pipeline import Pipeline\n",
    "from sklearn.preprocessing import MinMaxScaler\n",
    "from sklearn.linear_model import LogisticRegression\n",
    "from sklearn.ensemble import RandomForestClassifier, GradientBoostingClassifier\n",
    "from sklearn.metrics import accuracy_score, precision_score, recall_score, f1_score, roc_auc_score\n",
    "import matplotlib.pyplot as plt\n",
    "\n",
    "#ignore warning messages to ensure clean outputs\n",
    "import warnings\n",
    "warnings.filterwarnings('ignore')\n",
    "\n"
   ]
  },
  {
   "cell_type": "code",
   "execution_count": 38,
   "id": "05293220-9427-4278-9cc7-c7ef77e33712",
   "metadata": {},
   "outputs": [
    {
     "name": "stdout",
     "output_type": "stream",
     "text": [
      "X_train shape: (60046, 24)\n",
      "X_test shape: (15012, 24)\n",
      "y_train shape: (60046, 1)\n",
      "y_test shape: (15012, 1)\n",
      "\n",
      "Preview of X_train:\n",
      "          C1  banner_pos   site_id  site_domain  site_category    app_id  \\\n",
      "0  0.022512   -0.491598 -0.198818    -1.136827      -0.829826  0.352128   \n",
      "1  0.022512   -0.491598 -0.913772     0.852371      -0.829826  0.352128   \n",
      "2  0.022512   -0.491598 -0.913772     0.852371      -0.829826  0.352128   \n",
      "3  0.022512   -0.491598 -0.913772     0.852371      -0.829826  0.352128   \n",
      "4  0.022512   -0.491598  0.463921     0.080094       0.696924  0.352128   \n",
      "\n",
      "   app_domain  app_category  device_id  device_ip  ...       C15       C16  \\\n",
      "0    0.178354     -0.321387   0.187657   0.365528  ...  0.154979 -0.210344   \n",
      "1    0.178354     -0.321387   0.187657  -0.964934  ...  0.154979 -0.210344   \n",
      "2    0.178354     -0.321387   0.187657   1.412312  ...  0.154979 -0.210344   \n",
      "3    0.178354     -0.321387   0.187657  -0.276494  ...  0.154979 -0.210344   \n",
      "4    0.178354     -0.321387   0.187657   0.838755  ...  0.154979 -0.210344   \n",
      "\n",
      "        C17       C18       C19       C20       C21  day  hour_of_day  weekday  \n",
      "0  0.360906  1.883116 -0.371429 -0.801436 -1.399603  0.0          0.0      0.0  \n",
      "1 -0.497055 -0.638328 -0.387304 -0.801436 -0.109505  0.0          0.0      0.0  \n",
      "2 -0.497055 -0.638328 -0.387304 -0.801436 -0.109505  0.0          0.0      0.0  \n",
      "3 -0.497055 -0.638328 -0.387304 -0.801436 -0.109505  0.0          0.0      0.0  \n",
      "4  0.617279 -0.638328 -0.387304 -0.801436  1.687416  0.0          0.0      0.0  \n",
      "\n",
      "[5 rows x 24 columns]\n"
     ]
    }
   ],
   "source": [
    "import pandas as pd\n",
    "\n",
    "# Set the path to your data folder\n",
    "data_path = r\"C:\\Users\\vidus\\OneDrive\\Documents\\SpringBoard\\CapestoneProjects\\Final-ProjectCTRPrediction\\data\"\n",
    "\n",
    "# Load the training and testing datasets\n",
    "X_train = pd.read_csv(f\"{data_path}\\\\X_train.csv\")\n",
    "X_test = pd.read_csv(f\"{data_path}\\\\X_test.csv\")\n",
    "y_train = pd.read_csv(f\"{data_path}\\\\y_train.csv\")\n",
    "y_test = pd.read_csv(f\"{data_path}\\\\y_test.csv\")\n",
    "\n",
    "# Display shapes and preview of each dataset\n",
    "print(\"X_train shape:\", X_train.shape)\n",
    "print(\"X_test shape:\", X_test.shape)\n",
    "print(\"y_train shape:\", y_train.shape)\n",
    "print(\"y_test shape:\", y_test.shape)\n",
    "print(\"\\nPreview of X_train:\\n\", X_train.head())\n"
   ]
  },
  {
   "cell_type": "code",
   "execution_count": 40,
   "id": "d404eccd-7b2b-42ff-95be-8defcf63627d",
   "metadata": {},
   "outputs": [
    {
     "data": {
      "text/html": [
       "<div>\n",
       "<style scoped>\n",
       "    .dataframe tbody tr th:only-of-type {\n",
       "        vertical-align: middle;\n",
       "    }\n",
       "\n",
       "    .dataframe tbody tr th {\n",
       "        vertical-align: top;\n",
       "    }\n",
       "\n",
       "    .dataframe thead th {\n",
       "        text-align: right;\n",
       "    }\n",
       "</style>\n",
       "<table border=\"1\" class=\"dataframe\">\n",
       "  <thead>\n",
       "    <tr style=\"text-align: right;\">\n",
       "      <th></th>\n",
       "      <th>click</th>\n",
       "      <th>C1</th>\n",
       "      <th>banner_pos</th>\n",
       "      <th>site_id</th>\n",
       "      <th>site_domain</th>\n",
       "      <th>site_category</th>\n",
       "      <th>app_id</th>\n",
       "      <th>app_domain</th>\n",
       "      <th>app_category</th>\n",
       "      <th>device_id</th>\n",
       "      <th>...</th>\n",
       "      <th>C15</th>\n",
       "      <th>C16</th>\n",
       "      <th>C17</th>\n",
       "      <th>C18</th>\n",
       "      <th>C19</th>\n",
       "      <th>C20</th>\n",
       "      <th>C21</th>\n",
       "      <th>day</th>\n",
       "      <th>hour_of_day</th>\n",
       "      <th>weekday</th>\n",
       "    </tr>\n",
       "  </thead>\n",
       "  <tbody>\n",
       "    <tr>\n",
       "      <th>0</th>\n",
       "      <td>0</td>\n",
       "      <td>1005</td>\n",
       "      <td>0</td>\n",
       "      <td>104</td>\n",
       "      <td>742</td>\n",
       "      <td>2</td>\n",
       "      <td>656</td>\n",
       "      <td>23</td>\n",
       "      <td>0</td>\n",
       "      <td>4865</td>\n",
       "      <td>...</td>\n",
       "      <td>320</td>\n",
       "      <td>50</td>\n",
       "      <td>1722</td>\n",
       "      <td>0</td>\n",
       "      <td>35</td>\n",
       "      <td>-1</td>\n",
       "      <td>79</td>\n",
       "      <td>21</td>\n",
       "      <td>0</td>\n",
       "      <td>1</td>\n",
       "    </tr>\n",
       "    <tr>\n",
       "      <th>1</th>\n",
       "      <td>0</td>\n",
       "      <td>1005</td>\n",
       "      <td>0</td>\n",
       "      <td>104</td>\n",
       "      <td>742</td>\n",
       "      <td>2</td>\n",
       "      <td>656</td>\n",
       "      <td>23</td>\n",
       "      <td>0</td>\n",
       "      <td>4865</td>\n",
       "      <td>...</td>\n",
       "      <td>320</td>\n",
       "      <td>50</td>\n",
       "      <td>1722</td>\n",
       "      <td>0</td>\n",
       "      <td>35</td>\n",
       "      <td>100084</td>\n",
       "      <td>79</td>\n",
       "      <td>21</td>\n",
       "      <td>0</td>\n",
       "      <td>1</td>\n",
       "    </tr>\n",
       "    <tr>\n",
       "      <th>2</th>\n",
       "      <td>0</td>\n",
       "      <td>1005</td>\n",
       "      <td>0</td>\n",
       "      <td>104</td>\n",
       "      <td>742</td>\n",
       "      <td>2</td>\n",
       "      <td>656</td>\n",
       "      <td>23</td>\n",
       "      <td>0</td>\n",
       "      <td>4865</td>\n",
       "      <td>...</td>\n",
       "      <td>320</td>\n",
       "      <td>50</td>\n",
       "      <td>1722</td>\n",
       "      <td>0</td>\n",
       "      <td>35</td>\n",
       "      <td>100084</td>\n",
       "      <td>79</td>\n",
       "      <td>21</td>\n",
       "      <td>0</td>\n",
       "      <td>1</td>\n",
       "    </tr>\n",
       "    <tr>\n",
       "      <th>3</th>\n",
       "      <td>0</td>\n",
       "      <td>1005</td>\n",
       "      <td>0</td>\n",
       "      <td>104</td>\n",
       "      <td>742</td>\n",
       "      <td>2</td>\n",
       "      <td>656</td>\n",
       "      <td>23</td>\n",
       "      <td>0</td>\n",
       "      <td>4865</td>\n",
       "      <td>...</td>\n",
       "      <td>320</td>\n",
       "      <td>50</td>\n",
       "      <td>1722</td>\n",
       "      <td>0</td>\n",
       "      <td>35</td>\n",
       "      <td>100084</td>\n",
       "      <td>79</td>\n",
       "      <td>21</td>\n",
       "      <td>0</td>\n",
       "      <td>1</td>\n",
       "    </tr>\n",
       "    <tr>\n",
       "      <th>4</th>\n",
       "      <td>0</td>\n",
       "      <td>1005</td>\n",
       "      <td>1</td>\n",
       "      <td>881</td>\n",
       "      <td>439</td>\n",
       "      <td>0</td>\n",
       "      <td>656</td>\n",
       "      <td>23</td>\n",
       "      <td>0</td>\n",
       "      <td>4865</td>\n",
       "      <td>...</td>\n",
       "      <td>320</td>\n",
       "      <td>50</td>\n",
       "      <td>2161</td>\n",
       "      <td>0</td>\n",
       "      <td>35</td>\n",
       "      <td>-1</td>\n",
       "      <td>157</td>\n",
       "      <td>21</td>\n",
       "      <td>0</td>\n",
       "      <td>1</td>\n",
       "    </tr>\n",
       "  </tbody>\n",
       "</table>\n",
       "<p>5 rows × 25 columns</p>\n",
       "</div>"
      ],
      "text/plain": [
       "   click    C1  banner_pos  site_id  site_domain  site_category  app_id  \\\n",
       "0      0  1005           0      104          742              2     656   \n",
       "1      0  1005           0      104          742              2     656   \n",
       "2      0  1005           0      104          742              2     656   \n",
       "3      0  1005           0      104          742              2     656   \n",
       "4      0  1005           1      881          439              0     656   \n",
       "\n",
       "   app_domain  app_category  device_id  ...  C15  C16   C17  C18  C19     C20  \\\n",
       "0          23             0       4865  ...  320   50  1722    0   35      -1   \n",
       "1          23             0       4865  ...  320   50  1722    0   35  100084   \n",
       "2          23             0       4865  ...  320   50  1722    0   35  100084   \n",
       "3          23             0       4865  ...  320   50  1722    0   35  100084   \n",
       "4          23             0       4865  ...  320   50  2161    0   35      -1   \n",
       "\n",
       "   C21  day  hour_of_day  weekday  \n",
       "0   79   21            0        1  \n",
       "1   79   21            0        1  \n",
       "2   79   21            0        1  \n",
       "3   79   21            0        1  \n",
       "4  157   21            0        1  \n",
       "\n",
       "[5 rows x 25 columns]"
      ]
     },
     "execution_count": 40,
     "metadata": {},
     "output_type": "execute_result"
    }
   ],
   "source": [
    "# Load the CTR dataset\n",
    "df = pd.read_csv(r\"C:\\Users\\vidus\\OneDrive\\Documents\\SpringBoard\\CapestoneProjects\\Final-ProjectCTRPrediction\\data\\clean_data\\cleaned_ctr_prediction_data.csv\")\n",
    "\n",
    "# Display the first few rows\n",
    "df.head()"
   ]
  },
  {
   "cell_type": "code",
   "execution_count": 44,
   "id": "57d376f7-6112-42ad-b580-c2307285beaf",
   "metadata": {},
   "outputs": [],
   "source": [
    "# 3. Define models and hyperparameter grids\n",
    "models = {\n",
    "    \"Logistic Regression\": (LogisticRegression(solver='liblinear', random_state=42),\n",
    "                            {'model__C': [0.01, 0.1, 1, 10]}),\n",
    "    \"Random Forest\": (RandomForestClassifier(random_state=42),\n",
    "                      {'model__n_estimators': [100, 200], 'model__max_depth': [5, 10, None]}),\n",
    "    \"Gradient Boosting\": (GradientBoostingClassifier(random_state=42),\n",
    "                          {'model__n_estimators': [100, 200], 'model__learning_rate': [0.05, 0.1], 'model__max_depth': [3, 6]})\n",
    "}"
   ]
  },
  {
   "cell_type": "code",
   "execution_count": 46,
   "id": "1b7fd6f6-a371-4acd-89c8-acf218f5bc0d",
   "metadata": {},
   "outputs": [],
   "source": [
    "# 4. Cross-validation setup and model evaluation\n",
    "cv = StratifiedKFold(n_splits=5, shuffle=True, random_state=42)\n",
    "results = []\n",
    "\n",
    "for name, (model, param_grid) in models.items():\n",
    "    pipe = Pipeline([\n",
    "        ('scaler', MinMaxScaler(feature_range=(-1, 1))),\n",
    "        ('model', model)\n",
    "    ])\n",
    "    grid = GridSearchCV(pipe, param_grid, cv=cv, scoring='f1', n_jobs=-1)\n",
    "    grid.fit(X_train, y_train)\n",
    "\n",
    "    best_model = grid.best_estimator_\n",
    "    preds = best_model.predict(X_test)\n",
    "    probs = best_model.predict_proba(X_test)[:, 1]\n",
    "\n",
    "    results.append({\n",
    "        \"Model\": name,\n",
    "        \"Best Parameters\": grid.best_params_,\n",
    "        \"Accuracy\": accuracy_score(y_test, preds),\n",
    "        \"Precision\": precision_score(y_test, preds),\n",
    "        \"Recall\": recall_score(y_test, preds),\n",
    "        \"F1 Score\": f1_score(y_test, preds),\n",
    "        \"ROC AUC\": roc_auc_score(y_test, probs)\n",
    "    })"
   ]
  },
  {
   "cell_type": "code",
   "execution_count": 48,
   "id": "939f3b6b-e92e-46e6-873d-b0b9953111e0",
   "metadata": {},
   "outputs": [
    {
     "name": "stdout",
     "output_type": "stream",
     "text": [
      "                 Model                                    Best Parameters  \\\n",
      "0  Logistic Regression                                   {'model__C': 10}   \n",
      "1        Random Forest  {'model__max_depth': None, 'model__n_estimator...   \n",
      "2    Gradient Boosting  {'model__learning_rate': 0.1, 'model__max_dept...   \n",
      "\n",
      "   Accuracy  Precision    Recall  F1 Score   ROC AUC  \n",
      "0  0.783973   0.493506  0.011721  0.022898  0.623073  \n",
      "1  0.723688   0.288515  0.190623  0.229569  0.604453  \n",
      "2  0.785305   0.512102  0.123998  0.199652  0.685624  \n"
     ]
    }
   ],
   "source": [
    "# 5. Convert results to DataFrame\n",
    "results_df = pd.DataFrame(results)\n",
    "print(results_df)"
   ]
  },
  {
   "cell_type": "code",
   "execution_count": 50,
   "id": "4ac3ffb1-7a11-491c-8afb-2ab29edaf22b",
   "metadata": {},
   "outputs": [],
   "source": [
    "# 6: Feature Scaling\n",
    "scaler = MinMaxScaler(feature_range=(-1, 1))\n",
    "X_train_scaled = scaler.fit_transform(X_train)\n",
    "X_test_scaled = scaler.transform(X_test)\n"
   ]
  },
  {
   "cell_type": "code",
   "execution_count": 52,
   "id": "5b4c2362-be02-486f-a5dc-f6ec99e121d1",
   "metadata": {},
   "outputs": [],
   "source": [
    "# 7: Logistic Regression - Try different C values\n",
    "C_param_range = [0.001, 0.01, 0.1, 1, 10, 100]\n",
    "results = []\n",
    "\n",
    "for c in C_param_range:\n",
    "    model = LogisticRegression(C=c, penalty='l2', random_state=42, max_iter=1000)\n",
    "    model.fit(X_train_scaled, y_train)\n",
    "    y_pred = model.predict(X_test_scaled)\n",
    "    accuracy = accuracy_score(y_test, y_pred)\n",
    "    results.append((c, accuracy))\n"
   ]
  },
  {
   "cell_type": "code",
   "execution_count": 56,
   "id": "bd469f9a-a7cb-48f6-8c1f-c6c7fbfa05b2",
   "metadata": {},
   "outputs": [
    {
     "name": "stdout",
     "output_type": "stream",
     "text": [
      "   C_parameter  Accuracy\n",
      "0        0.001  0.784039\n",
      "1        0.010  0.783973\n",
      "2        0.100  0.784106\n",
      "3        1.000  0.784039\n",
      "4       10.000  0.783973\n",
      "5      100.000  0.783973\n"
     ]
    }
   ],
   "source": [
    "# 8: Create DataFrame of results\n",
    "results_df = pd.DataFrame(results, columns=['C_parameter', 'Accuracy'])\n",
    "print(results_df)\n"
   ]
  },
  {
   "cell_type": "code",
   "execution_count": 58,
   "id": "f2f54e2f-4900-4ebd-96c7-54e7d8c49680",
   "metadata": {},
   "outputs": [
    {
     "data": {
      "image/png": "[encoded data removed]",
      "text/plain": [
       "<Figure size 800x500 with 1 Axes>"
      ]
     },
     "metadata": {},
     "output_type": "display_data"
    }
   ],
   "source": [
    "# 9: Plot the results\n",
    "plt.figure(figsize=(8, 5))\n",
    "plt.plot(results_df['C_parameter'], results_df['Accuracy'], marker='o')\n",
    "plt.xscale('log')\n",
    "plt.xlabel('C (Regularization Strength - log scale)')\n",
    "plt.ylabel('Accuracy')\n",
    "plt.title('Logistic Regression: Accuracy vs C Value')\n",
    "plt.grid(True)\n",
    "plt.show()"
   ]
  },
  {
   "cell_type": "markdown",
   "id": "cd837283-3d05-4237-a408-d90f0899fecb",
   "metadata": {},
   "source": [
    "Now, let's do Random Forest Classifier for CTR Prediction\n"
   ]
  },
  {
   "cell_type": "code",
   "execution_count": 62,
   "id": "b0b611f4-7d7e-4081-acbd-1b85fa80ecb9",
   "metadata": {},
   "outputs": [],
   "source": [
    "# Import libraries for Random Forest Classifier \n",
    "from sklearn.ensemble import RandomForestClassifier\n",
    "from sklearn.metrics import accuracy_score\n"
   ]
  },
  {
   "cell_type": "code",
   "execution_count": 64,
   "id": "fe650cdf-209a-4994-b7d3-deb35633e629",
   "metadata": {},
   "outputs": [],
   "source": [
    "# Step 1: Define parameter grid for number of trees\n",
    "n_estimators_range = [10, 50, 100, 200]\n",
    "rf_results = []"
   ]
  },
  {
   "cell_type": "code",
   "execution_count": 66,
   "id": "666a9af4-b724-4f40-b407-938df6ee5f36",
   "metadata": {},
   "outputs": [],
   "source": [
    "# Step 2: Train and evaluate Random Forest models\n",
    "for n in n_estimators_range:\n",
    "    rf = RandomForestClassifier(n_estimators=n, random_state=42)\n",
    "    rf.fit(X_train_scaled, y_train)\n",
    "    y_pred_rf = rf.predict(X_test_scaled)\n",
    "    acc = accuracy_score(y_test, y_pred_rf)\n",
    "    rf_results.append((n, acc))"
   ]
  },
  {
   "cell_type": "code",
   "execution_count": 68,
   "id": "7f9a7c1e-823b-4919-acaa-7a7895935013",
   "metadata": {},
   "outputs": [
    {
     "name": "stdout",
     "output_type": "stream",
     "text": [
      "   n_estimators  Accuracy\n",
      "0            10  0.727485\n",
      "1            50  0.725087\n",
      "2           100  0.723355\n",
      "3           200  0.723688\n"
     ]
    }
   ],
   "source": [
    "# Step 3: Convert to DataFrame\n",
    "rf_results_df = pd.DataFrame(rf_results, columns=['n_estimators', 'Accuracy'])\n",
    "print(rf_results_df)\n"
   ]
  },
  {
   "cell_type": "code",
   "execution_count": 70,
   "id": "7b14307f-bd9c-4ef6-9016-d3e86148fc4b",
   "metadata": {},
   "outputs": [
    {
     "data": {
      "image/png": "[encoded data removed]",
      "text/plain": [
       "<Figure size 800x500 with 1 Axes>"
      ]
     },
     "metadata": {},
     "output_type": "display_data"
    }
   ],
   "source": [
    "# Step 4: Plot accuracy vs n_estimators\n",
    "plt.figure(figsize=(8, 5))\n",
    "plt.plot(rf_results_df['n_estimators'], rf_results_df['Accuracy'], marker='o')\n",
    "plt.xlabel('Number of Trees (n_estimators)')\n",
    "plt.ylabel('Accuracy')\n",
    "plt.title('Random Forest: Accuracy vs Number of Trees')\n",
    "plt.grid(True)\n",
    "plt.show()"
   ]
  },
  {
   "cell_type": "markdown",
   "id": "e1c97432-550f-4816-979d-26d67b5ea469",
   "metadata": {},
   "source": [
    "Now, let's do Gradient Boosting Classifier for CTR Prediction"
   ]
  },
  {
   "cell_type": "code",
   "execution_count": 73,
   "id": "57e8e5b2-8abd-4d1c-872f-b11edc83c14b",
   "metadata": {},
   "outputs": [],
   "source": [
    "# import libraries for Gradient Boosting Classifier for CTR Prediction\n",
    "\n",
    "from sklearn.ensemble import GradientBoostingClassifier\n"
   ]
  },
  {
   "cell_type": "code",
   "execution_count": 88,
   "id": "76ef5805-7c6d-4878-a2cf-f433f132fc95",
   "metadata": {},
   "outputs": [],
   "source": [
    "# Step 1: Define parameter grid for learning rate\n",
    "learning_rates = [0.01, 0.05, 0.1, 0.2]\n",
    "gb_results = []\n",
    "\n",
    "best_accuracy = 0\n",
    "gb_model = None  # Placeholder for best model"
   ]
  },
  {
   "cell_type": "code",
   "execution_count": 91,
   "id": "6b348358-4ed5-428b-aa54-f7eb0bc0d224",
   "metadata": {},
   "outputs": [],
   "source": [
    "# Step 2: Train and evaluate Gradient Boosting models\n",
    "#for lr in learning_rates:\n",
    "   # gb = GradientBoostingClassifier(learning_rate=lr, n_estimators=100, random_state=42)\n",
    "  #  gb.fit(X_train_scaled, y_train)\n",
    "  #  y_pred_gb = gb.predict(X_test_scaled)\n",
    "  #  acc = accuracy_score(y_test, y_pred_gb)\n",
    "  #  gb_results.append((lr, acc))\n",
    "\n",
    "\n",
    "# Step 2: Train models with different learning rates\n",
    "for lr in learning_rates:\n",
    "    model = GradientBoostingClassifier(learning_rate=lr, random_state=42)\n",
    "    model.fit(X_train, y_train.values.ravel())  # .values.ravel() if y is DataFrame\n",
    "    acc = model.score(X_test, y_test)\n",
    "    gb_results.append((lr, acc))\n",
    "\n",
    "# Save the best model\n",
    "    if acc > best_accuracy:\n",
    "        best_accuracy = acc\n",
    "        gb_model = model"
   ]
  },
  {
   "cell_type": "code",
   "execution_count": 79,
   "id": "610a20bb-e87f-4da6-bd36-785a0ca9ddef",
   "metadata": {},
   "outputs": [
    {
     "name": "stdout",
     "output_type": "stream",
     "text": [
      "   learning_rate  Accuracy\n",
      "0           0.01  0.784039\n",
      "1           0.05  0.787370\n",
      "2           0.10  0.787104\n",
      "3           0.20  0.786904\n"
     ]
    }
   ],
   "source": [
    "# Step 3: Convert to DataFrame\n",
    "gb_results_df = pd.DataFrame(gb_results, columns=['learning_rate', 'Accuracy'])\n",
    "print(gb_results_df)"
   ]
  },
  {
   "cell_type": "code",
   "execution_count": 81,
   "id": "9f6b3d21-cf20-49e5-89fb-873df322eba7",
   "metadata": {},
   "outputs": [
    {
     "data": {
      "image/png": "[encoded data removed]",
      "text/plain": [
       "<Figure size 800x500 with 1 Axes>"
      ]
     },
     "metadata": {},
     "output_type": "display_data"
    }
   ],
   "source": [
    "# Step 4: Plot accuracy vs learning rate\n",
    "plt.figure(figsize=(8, 5))\n",
    "plt.plot(gb_results_df['learning_rate'], gb_results_df['Accuracy'], marker='o')\n",
    "plt.xlabel('Learning Rate')\n",
    "plt.ylabel('Accuracy')\n",
    "plt.title('Gradient Boosting: Accuracy vs Learning Rate')\n",
    "plt.grid(True)\n",
    "plt.show()"
   ]
  },
  {
   "cell_type": "markdown",
   "id": "e6871525-f346-453a-b831-8a6a949ac59e",
   "metadata": {},
   "source": [
    "Now, let's Evaluate Best Model"
   ]
  },
  {
   "cell_type": "code",
   "execution_count": 84,
   "id": "ea888fe3-1ec7-4885-bc93-13c17c57dc73",
   "metadata": {},
   "outputs": [],
   "source": [
    "# import libraries for to evaluate the best model\n",
    "\n",
    "from sklearn.metrics import classification_report, confusion_matrix, ConfusionMatrixDisplay, roc_auc_score\n"
   ]
  },
  {
   "cell_type": "code",
   "execution_count": 93,
   "id": "4fbe760f-2cc2-4e70-851b-7d146fc0ef7d",
   "metadata": {},
   "outputs": [],
   "source": [
    "# Assuming gb_model is your best Gradient Boosting model\n",
    "# and it was trained using X_train and y_train\n",
    "\n",
    "# Predict on test data\n",
    "y_pred = gb_model.predict(X_test)\n"
   ]
  },
  {
   "cell_type": "code",
   "execution_count": 95,
   "id": "99f5a535-8195-408b-95ad-3cf40b02b262",
   "metadata": {},
   "outputs": [],
   "source": [
    "# If y_test is a DataFrame, convert it to a Series\n",
    "if isinstance(y_test, pd.DataFrame):\n",
    "    y_test = y_test.iloc[:, 0]\n"
   ]
  },
  {
   "cell_type": "code",
   "execution_count": 97,
   "id": "1bf03ce8-c12a-4f35-9e7e-302398a3d02b",
   "metadata": {},
   "outputs": [
    {
     "name": "stdout",
     "output_type": "stream",
     "text": [
      "📄 Classification Report:\n",
      "              precision    recall  f1-score   support\n",
      "\n",
      "           0       0.80      0.98      0.88     11770\n",
      "           1       0.55      0.08      0.14      3242\n",
      "\n",
      "    accuracy                           0.79     15012\n",
      "   macro avg       0.67      0.53      0.51     15012\n",
      "weighted avg       0.74      0.79      0.72     15012\n",
      "\n"
     ]
    }
   ],
   "source": [
    "# Classification report\n",
    "print(\"📄 Classification Report:\")\n",
    "print(classification_report(y_test, y_pred))\n"
   ]
  },
  {
   "cell_type": "code",
   "execution_count": 99,
   "id": "3f02f37b-b580-4e29-8b05-dab022e8b924",
   "metadata": {},
   "outputs": [
    {
     "data": {
      "image/png": "[encoded data removed]",
      "text/plain": [
       "<Figure size 640x480 with 2 Axes>"
      ]
     },
     "metadata": {},
     "output_type": "display_data"
    }
   ],
   "source": [
    "# Confusion matrix\n",
    "cm = confusion_matrix(y_test, y_pred)\n",
    "disp = ConfusionMatrixDisplay(confusion_matrix=cm)\n",
    "disp.plot(cmap='Blues')\n",
    "plt.title(\"Confusion Matrix\")\n",
    "plt.show()"
   ]
  },
  {
   "cell_type": "code",
   "execution_count": 101,
   "id": "6d8f46f3-e29a-42b4-af5d-ea9fc7822a43",
   "metadata": {},
   "outputs": [
    {
     "name": "stdout",
     "output_type": "stream",
     "text": [
      " ROC AUC Score: 0.6789\n"
     ]
    }
   ],
   "source": [
    "# ROC AUC Score (if your model supports predict_proba)\n",
    "if hasattr(gb_model, \"predict_proba\"):\n",
    "    y_proba = gb_model.predict_proba(X_test)[:, 1]\n",
    "    roc_auc = roc_auc_score(y_test, y_proba)\n",
    "    print(f\" ROC AUC Score: {roc_auc:.4f}\")\n",
    "else:\n",
    "    print(\"ROC AUC not available - model does not support probability estimates.\")"
   ]
  },
  {
   "cell_type": "markdown",
   "id": "3ee50257-add5-4ec8-b2cb-9c490ba6ec10",
   "metadata": {},
   "source": [
    "Based on the model evaluation - \n",
    "True Negatives (TN): 11,557\n",
    "\n",
    "False Positives (FP): 213\n",
    "\n",
    "False Negatives (FN): 2,979\n",
    "\n",
    "True Positives (TP): 263\n",
    "\n",
    "ROC AUC Score: 0.6789"
   ]
  },
  {
   "cell_type": "code",
   "execution_count": 106,
   "id": "850241e3-29f9-49d8-b567-23b5b7f020a5",
   "metadata": {},
   "outputs": [],
   "source": [
    "from sklearn.neighbors import KNeighborsClassifier\n",
    "from sklearn.svm import SVC\n",
    "from sklearn.naive_bayes import GaussianNB\n",
    "\n",
    "# Initialize models\n",
    "knn_model = KNeighborsClassifier()\n",
    "svm_model = SVC()\n",
    "nb_model = GaussianNB()"
   ]
  },
  {
   "cell_type": "code",
   "execution_count": 108,
   "id": "a9a1811e-dca9-4ced-b9b5-a3e09e14f646",
   "metadata": {},
   "outputs": [
    {
     "data": {
      "text/html": [
       "<style>#sk-container-id-1 {\n",
       "  /* Definition of color scheme common for light and dark mode */\n",
       "  --sklearn-color-text: black;\n",
       "  --sklearn-color-line: gray;\n",
       "  /* Definition of color scheme for unfitted estimators */\n",
       "  --sklearn-color-unfitted-level-0: #fff5e6;\n",
       "  --sklearn-color-unfitted-level-1: #f6e4d2;\n",
       "  --sklearn-color-unfitted-level-2: #ffe0b3;\n",
       "  --sklearn-color-unfitted-level-3: chocolate;\n",
       "  /* Definition of color scheme for fitted estimators */\n",
       "  --sklearn-color-fitted-level-0: #f0f8ff;\n",
       "  --sklearn-color-fitted-level-1: #d4ebff;\n",
       "  --sklearn-color-fitted-level-2: #b3dbfd;\n",
       "  --sklearn-color-fitted-level-3: cornflowerblue;\n",
       "\n",
       "  /* Specific color for light theme */\n",
       "  --sklearn-color-text-on-default-background: var(--sg-text-color, var(--theme-code-foreground, var(--jp-content-font-color1, black)));\n",
       "  --sklearn-color-background: var(--sg-background-color, var(--theme-background, var(--jp-layout-color0, white)));\n",
       "  --sklearn-color-border-box: var(--sg-text-color, var(--theme-code-foreground, var(--jp-content-font-color1, black)));\n",
       "  --sklearn-color-icon: #696969;\n",
       "\n",
       "  @media (prefers-color-scheme: dark) {\n",
       "    /* Redefinition of color scheme for dark theme */\n",
       "    --sklearn-color-text-on-default-background: var(--sg-text-color, var(--theme-code-foreground, var(--jp-content-font-color1, white)));\n",
       "    --sklearn-color-background: var(--sg-background-color, var(--theme-background, var(--jp-layout-color0, #111)));\n",
       "    --sklearn-color-border-box: var(--sg-text-color, var(--theme-code-foreground, var(--jp-content-font-color1, white)));\n",
       "    --sklearn-color-icon: #878787;\n",
       "  }\n",
       "}\n",
       "\n",
       "#sk-container-id-1 {\n",
       "  color: var(--sklearn-color-text);\n",
       "}\n",
       "\n",
       "#sk-container-id-1 pre {\n",
       "  padding: 0;\n",
       "}\n",
       "\n",
       "#sk-container-id-1 input.sk-hidden--visually {\n",
       "  border: 0;\n",
       "  clip: rect(1px 1px 1px 1px);\n",
       "  clip: rect(1px, 1px, 1px, 1px);\n",
       "  height: 1px;\n",
       "  margin: -1px;\n",
       "  overflow: hidden;\n",
       "  padding: 0;\n",
       "  position: absolute;\n",
       "  width: 1px;\n",
       "}\n",
       "\n",
       "#sk-container-id-1 div.sk-dashed-wrapped {\n",
       "  border: 1px dashed var(--sklearn-color-line);\n",
       "  margin: 0 0.4em 0.5em 0.4em;\n",
       "  box-sizing: border-box;\n",
       "  padding-bottom: 0.4em;\n",
       "  background-color: var(--sklearn-color-background);\n",
       "}\n",
       "\n",
       "#sk-container-id-1 div.sk-container {\n",
       "  /* jupyter's `normalize.less` sets `[hidden] { display: none; }`\n",
       "     but bootstrap.min.css set `[hidden] { display: none !important; }`\n",
       "     so we also need the `!important` here to be able to override the\n",
       "     default hidden behavior on the sphinx rendered scikit-learn.org.\n",
       "     See: https://github.com/scikit-learn/scikit-learn/issues/21755 */\n",
       "  display: inline-block !important;\n",
       "  position: relative;\n",
       "}\n",
       "\n",
       "#sk-container-id-1 div.sk-text-repr-fallback {\n",
       "  display: none;\n",
       "}\n",
       "\n",
       "div.sk-parallel-item,\n",
       "div.sk-serial,\n",
       "div.sk-item {\n",
       "  /* draw centered vertical line to link estimators */\n",
       "  background-image: linear-gradient(var(--sklearn-color-text-on-default-background), var(--sklearn-color-text-on-default-background));\n",
       "  background-size: 2px 100%;\n",
       "  background-repeat: no-repeat;\n",
       "  background-position: center center;\n",
       "}\n",
       "\n",
       "/* Parallel-specific style estimator block */\n",
       "\n",
       "#sk-container-id-1 div.sk-parallel-item::after {\n",
       "  content: \"\";\n",
       "  width: 100%;\n",
       "  border-bottom: 2px solid var(--sklearn-color-text-on-default-background);\n",
       "  flex-grow: 1;\n",
       "}\n",
       "\n",
       "#sk-container-id-1 div.sk-parallel {\n",
       "  display: flex;\n",
       "  align-items: stretch;\n",
       "  justify-content: center;\n",
       "  background-color: var(--sklearn-color-background);\n",
       "  position: relative;\n",
       "}\n",
       "\n",
       "#sk-container-id-1 div.sk-parallel-item {\n",
       "  display: flex;\n",
       "  flex-direction: column;\n",
       "}\n",
       "\n",
       "#sk-container-id-1 div.sk-parallel-item:first-child::after {\n",
       "  align-self: flex-end;\n",
       "  width: 50%;\n",
       "}\n",
       "\n",
       "#sk-container-id-1 div.sk-parallel-item:last-child::after {\n",
       "  align-self: flex-start;\n",
       "  width: 50%;\n",
       "}\n",
       "\n",
       "#sk-container-id-1 div.sk-parallel-item:only-child::after {\n",
       "  width: 0;\n",
       "}\n",
       "\n",
       "/* Serial-specific style estimator block */\n",
       "\n",
       "#sk-container-id-1 div.sk-serial {\n",
       "  display: flex;\n",
       "  flex-direction: column;\n",
       "  align-items: center;\n",
       "  background-color: var(--sklearn-color-background);\n",
       "  padding-right: 1em;\n",
       "  padding-left: 1em;\n",
       "}\n",
       "\n",
       "\n",
       "/* Toggleable style: style used for estimator/Pipeline/ColumnTransformer box that is\n",
       "clickable and can be expanded/collapsed.\n",
       "- Pipeline and ColumnTransformer use this feature and define the default style\n",
       "- Estimators will overwrite some part of the style using the `sk-estimator` class\n",
       "*/\n",
       "\n",
       "/* Pipeline and ColumnTransformer style (default) */\n",
       "\n",
       "#sk-container-id-1 div.sk-toggleable {\n",
       "  /* Default theme specific background. It is overwritten whether we have a\n",
       "  specific estimator or a Pipeline/ColumnTransformer */\n",
       "  background-color: var(--sklearn-color-background);\n",
       "}\n",
       "\n",
       "/* Toggleable label */\n",
       "#sk-container-id-1 label.sk-toggleable__label {\n",
       "  cursor: pointer;\n",
       "  display: block;\n",
       "  width: 100%;\n",
       "  margin-bottom: 0;\n",
       "  padding: 0.5em;\n",
       "  box-sizing: border-box;\n",
       "  text-align: center;\n",
       "}\n",
       "\n",
       "#sk-container-id-1 label.sk-toggleable__label-arrow:before {\n",
       "  /* Arrow on the left of the label */\n",
       "  content: \"▸\";\n",
       "  float: left;\n",
       "  margin-right: 0.25em;\n",
       "  color: var(--sklearn-color-icon);\n",
       "}\n",
       "\n",
       "#sk-container-id-1 label.sk-toggleable__label-arrow:hover:before {\n",
       "  color: var(--sklearn-color-text);\n",
       "}\n",
       "\n",
       "/* Toggleable content - dropdown */\n",
       "\n",
       "#sk-container-id-1 div.sk-toggleable__content {\n",
       "  max-height: 0;\n",
       "  max-width: 0;\n",
       "  overflow: hidden;\n",
       "  text-align: left;\n",
       "  /* unfitted */\n",
       "  background-color: var(--sklearn-color-unfitted-level-0);\n",
       "}\n",
       "\n",
       "#sk-container-id-1 div.sk-toggleable__content.fitted {\n",
       "  /* fitted */\n",
       "  background-color: var(--sklearn-color-fitted-level-0);\n",
       "}\n",
       "\n",
       "#sk-container-id-1 div.sk-toggleable__content pre {\n",
       "  margin: 0.2em;\n",
       "  border-radius: 0.25em;\n",
       "  color: var(--sklearn-color-text);\n",
       "  /* unfitted */\n",
       "  background-color: var(--sklearn-color-unfitted-level-0);\n",
       "}\n",
       "\n",
       "#sk-container-id-1 div.sk-toggleable__content.fitted pre {\n",
       "  /* unfitted */\n",
       "  background-color: var(--sklearn-color-fitted-level-0);\n",
       "}\n",
       "\n",
       "#sk-container-id-1 input.sk-toggleable__control:checked~div.sk-toggleable__content {\n",
       "  /* Expand drop-down */\n",
       "  max-height: 200px;\n",
       "  max-width: 100%;\n",
       "  overflow: auto;\n",
       "}\n",
       "\n",
       "#sk-container-id-1 input.sk-toggleable__control:checked~label.sk-toggleable__label-arrow:before {\n",
       "  content: \"▾\";\n",
       "}\n",
       "\n",
       "/* Pipeline/ColumnTransformer-specific style */\n",
       "\n",
       "#sk-container-id-1 div.sk-label input.sk-toggleable__control:checked~label.sk-toggleable__label {\n",
       "  color: var(--sklearn-color-text);\n",
       "  background-color: var(--sklearn-color-unfitted-level-2);\n",
       "}\n",
       "\n",
       "#sk-container-id-1 div.sk-label.fitted input.sk-toggleable__control:checked~label.sk-toggleable__label {\n",
       "  background-color: var(--sklearn-color-fitted-level-2);\n",
       "}\n",
       "\n",
       "/* Estimator-specific style */\n",
       "\n",
       "/* Colorize estimator box */\n",
       "#sk-container-id-1 div.sk-estimator input.sk-toggleable__control:checked~label.sk-toggleable__label {\n",
       "  /* unfitted */\n",
       "  background-color: var(--sklearn-color-unfitted-level-2);\n",
       "}\n",
       "\n",
       "#sk-container-id-1 div.sk-estimator.fitted input.sk-toggleable__control:checked~label.sk-toggleable__label {\n",
       "  /* fitted */\n",
       "  background-color: var(--sklearn-color-fitted-level-2);\n",
       "}\n",
       "\n",
       "#sk-container-id-1 div.sk-label label.sk-toggleable__label,\n",
       "#sk-container-id-1 div.sk-label label {\n",
       "  /* The background is the default theme color */\n",
       "  color: var(--sklearn-color-text-on-default-background);\n",
       "}\n",
       "\n",
       "/* On hover, darken the color of the background */\n",
       "#sk-container-id-1 div.sk-label:hover label.sk-toggleable__label {\n",
       "  color: var(--sklearn-color-text);\n",
       "  background-color: var(--sklearn-color-unfitted-level-2);\n",
       "}\n",
       "\n",
       "/* Label box, darken color on hover, fitted */\n",
       "#sk-container-id-1 div.sk-label.fitted:hover label.sk-toggleable__label.fitted {\n",
       "  color: var(--sklearn-color-text);\n",
       "  background-color: var(--sklearn-color-fitted-level-2);\n",
       "}\n",
       "\n",
       "/* Estimator label */\n",
       "\n",
       "#sk-container-id-1 div.sk-label label {\n",
       "  font-family: monospace;\n",
       "  font-weight: bold;\n",
       "  display: inline-block;\n",
       "  line-height: 1.2em;\n",
       "}\n",
       "\n",
       "#sk-container-id-1 div.sk-label-container {\n",
       "  text-align: center;\n",
       "}\n",
       "\n",
       "/* Estimator-specific */\n",
       "#sk-container-id-1 div.sk-estimator {\n",
       "  font-family: monospace;\n",
       "  border: 1px dotted var(--sklearn-color-border-box);\n",
       "  border-radius: 0.25em;\n",
       "  box-sizing: border-box;\n",
       "  margin-bottom: 0.5em;\n",
       "  /* unfitted */\n",
       "  background-color: var(--sklearn-color-unfitted-level-0);\n",
       "}\n",
       "\n",
       "#sk-container-id-1 div.sk-estimator.fitted {\n",
       "  /* fitted */\n",
       "  background-color: var(--sklearn-color-fitted-level-0);\n",
       "}\n",
       "\n",
       "/* on hover */\n",
       "#sk-container-id-1 div.sk-estimator:hover {\n",
       "  /* unfitted */\n",
       "  background-color: var(--sklearn-color-unfitted-level-2);\n",
       "}\n",
       "\n",
       "#sk-container-id-1 div.sk-estimator.fitted:hover {\n",
       "  /* fitted */\n",
       "  background-color: var(--sklearn-color-fitted-level-2);\n",
       "}\n",
       "\n",
       "/* Specification for estimator info (e.g. \"i\" and \"?\") */\n",
       "\n",
       "/* Common style for \"i\" and \"?\" */\n",
       "\n",
       ".sk-estimator-doc-link,\n",
       "a:link.sk-estimator-doc-link,\n",
       "a:visited.sk-estimator-doc-link {\n",
       "  float: right;\n",
       "  font-size: smaller;\n",
       "  line-height: 1em;\n",
       "  font-family: monospace;\n",
       "  background-color: var(--sklearn-color-background);\n",
       "  border-radius: 1em;\n",
       "  height: 1em;\n",
       "  width: 1em;\n",
       "  text-decoration: none !important;\n",
       "  margin-left: 1ex;\n",
       "  /* unfitted */\n",
       "  border: var(--sklearn-color-unfitted-level-1) 1pt solid;\n",
       "  color: var(--sklearn-color-unfitted-level-1);\n",
       "}\n",
       "\n",
       ".sk-estimator-doc-link.fitted,\n",
       "a:link.sk-estimator-doc-link.fitted,\n",
       "a:visited.sk-estimator-doc-link.fitted {\n",
       "  /* fitted */\n",
       "  border: var(--sklearn-color-fitted-level-1) 1pt solid;\n",
       "  color: var(--sklearn-color-fitted-level-1);\n",
       "}\n",
       "\n",
       "/* On hover */\n",
       "div.sk-estimator:hover .sk-estimator-doc-link:hover,\n",
       ".sk-estimator-doc-link:hover,\n",
       "div.sk-label-container:hover .sk-estimator-doc-link:hover,\n",
       ".sk-estimator-doc-link:hover {\n",
       "  /* unfitted */\n",
       "  background-color: var(--sklearn-color-unfitted-level-3);\n",
       "  color: var(--sklearn-color-background);\n",
       "  text-decoration: none;\n",
       "}\n",
       "\n",
       "div.sk-estimator.fitted:hover .sk-estimator-doc-link.fitted:hover,\n",
       ".sk-estimator-doc-link.fitted:hover,\n",
       "div.sk-label-container:hover .sk-estimator-doc-link.fitted:hover,\n",
       ".sk-estimator-doc-link.fitted:hover {\n",
       "  /* fitted */\n",
       "  background-color: var(--sklearn-color-fitted-level-3);\n",
       "  color: var(--sklearn-color-background);\n",
       "  text-decoration: none;\n",
       "}\n",
       "\n",
       "/* Span, style for the box shown on hovering the info icon */\n",
       ".sk-estimator-doc-link span {\n",
       "  display: none;\n",
       "  z-index: 9999;\n",
       "  position: relative;\n",
       "  font-weight: normal;\n",
       "  right: .2ex;\n",
       "  padding: .5ex;\n",
       "  margin: .5ex;\n",
       "  width: min-content;\n",
       "  min-width: 20ex;\n",
       "  max-width: 50ex;\n",
       "  color: var(--sklearn-color-text);\n",
       "  box-shadow: 2pt 2pt 4pt #999;\n",
       "  /* unfitted */\n",
       "  background: var(--sklearn-color-unfitted-level-0);\n",
       "  border: .5pt solid var(--sklearn-color-unfitted-level-3);\n",
       "}\n",
       "\n",
       ".sk-estimator-doc-link.fitted span {\n",
       "  /* fitted */\n",
       "  background: var(--sklearn-color-fitted-level-0);\n",
       "  border: var(--sklearn-color-fitted-level-3);\n",
       "}\n",
       "\n",
       ".sk-estimator-doc-link:hover span {\n",
       "  display: block;\n",
       "}\n",
       "\n",
       "/* \"?\"-specific style due to the `<a>` HTML tag */\n",
       "\n",
       "#sk-container-id-1 a.estimator_doc_link {\n",
       "  float: right;\n",
       "  font-size: 1rem;\n",
       "  line-height: 1em;\n",
       "  font-family: monospace;\n",
       "  background-color: var(--sklearn-color-background);\n",
       "  border-radius: 1rem;\n",
       "  height: 1rem;\n",
       "  width: 1rem;\n",
       "  text-decoration: none;\n",
       "  /* unfitted */\n",
       "  color: var(--sklearn-color-unfitted-level-1);\n",
       "  border: var(--sklearn-color-unfitted-level-1) 1pt solid;\n",
       "}\n",
       "\n",
       "#sk-container-id-1 a.estimator_doc_link.fitted {\n",
       "  /* fitted */\n",
       "  border: var(--sklearn-color-fitted-level-1) 1pt solid;\n",
       "  color: var(--sklearn-color-fitted-level-1);\n",
       "}\n",
       "\n",
       "/* On hover */\n",
       "#sk-container-id-1 a.estimator_doc_link:hover {\n",
       "  /* unfitted */\n",
       "  background-color: var(--sklearn-color-unfitted-level-3);\n",
       "  color: var(--sklearn-color-background);\n",
       "  text-decoration: none;\n",
       "}\n",
       "\n",
       "#sk-container-id-1 a.estimator_doc_link.fitted:hover {\n",
       "  /* fitted */\n",
       "  background-color: var(--sklearn-color-fitted-level-3);\n",
       "}\n",
       "</style><div id=\"sk-container-id-1\" class=\"sk-top-container\"><div class=\"sk-text-repr-fallback\"><pre>GaussianNB()</pre><b>In a Jupyter environment, please rerun this cell to show the HTML representation or trust the notebook. <br />On GitHub, the HTML representation is unable to render, please try loading this page with nbviewer.org.</b></div><div class=\"sk-container\" hidden><div class=\"sk-item\"><div class=\"sk-estimator fitted sk-toggleable\"><input class=\"sk-toggleable__control sk-hidden--visually\" id=\"sk-estimator-id-1\" type=\"checkbox\" checked><label for=\"sk-estimator-id-1\" class=\"sk-toggleable__label fitted sk-toggleable__label-arrow fitted\">&nbsp;&nbsp;GaussianNB<a class=\"sk-estimator-doc-link fitted\" rel=\"noreferrer\" target=\"_blank\" href=\"https://scikit-learn.org/1.5/modules/generated/sklearn.naive_bayes.GaussianNB.html\">?<span>Documentation for GaussianNB</span></a><span class=\"sk-estimator-doc-link fitted\">i<span>Fitted</span></span></label><div class=\"sk-toggleable__content fitted\"><pre>GaussianNB()</pre></div> </div></div></div></div>"
      ],
      "text/plain": [
       "GaussianNB()"
      ]
     },
     "execution_count": 108,
     "metadata": {},
     "output_type": "execute_result"
    }
   ],
   "source": [
    "# Train models\n",
    "knn_model.fit(X_train, y_train)\n",
    "svm_model.fit(X_train, y_train)\n",
    "nb_model.fit(X_train, y_train)"
   ]
  },
  {
   "cell_type": "code",
   "execution_count": 114,
   "id": "7921d53e-7206-4585-9aed-32c15b97ed05",
   "metadata": {},
   "outputs": [],
   "source": [
    "import os\n",
    "from sklearn.neighbors import KNeighborsClassifier\n",
    "\n",
    "# Prevent multiprocessing issues\n",
    "os.environ[\"JOBLIB_MULTIPROCESSING\"] = \"0\"\n",
    "\n",
    "# Redefine and fit the KNN model\n",
    "knn_model = KNeighborsClassifier(n_jobs=1)\n",
    "knn_model.fit(X_train, y_train)\n",
    "\n",
    "# Predict\n",
    "knn_preds = knn_model.predict(X_test)\n",
    "svm_preds = svm_model.predict(X_test)  # assuming svm_model already fitted\n",
    "nb_preds = nb_model.predict(X_test)    # assuming nb_model already fitted\n"
   ]
  },
  {
   "cell_type": "code",
   "execution_count": 116,
   "id": "6d9fa6a4-5b9e-4392-8e40-c5f87af9aceb",
   "metadata": {},
   "outputs": [],
   "source": [
    "# Evaluate\n",
    "knn_report = classification_report(y_test, knn_preds, output_dict=True)\n",
    "svm_report = classification_report(y_test, svm_preds, output_dict=True)\n",
    "nb_report = classification_report(y_test, nb_preds, output_dict=True)"
   ]
  },
  {
   "cell_type": "code",
   "execution_count": 118,
   "id": "03dd59b4-55f6-48b8-b5aa-a897044f5ff0",
   "metadata": {},
   "outputs": [
    {
     "data": {
      "text/plain": [
       "(({'0': {'precision': 0.8053124056746152,\n",
       "    'recall': 0.9067119796091758,\n",
       "    'f1-score': 0.853009351770442,\n",
       "    'support': 11770.0},\n",
       "   '1': {'precision': 0.37613636363636366,\n",
       "    'recall': 0.2041949413942011,\n",
       "    'f1-score': 0.2646941223510596,\n",
       "    'support': 3242.0},\n",
       "   'accuracy': 0.7549960031974421,\n",
       "   'macro avg': {'precision': 0.5907243846554894,\n",
       "    'recall': 0.5554534605016884,\n",
       "    'f1-score': 0.5588517370607509,\n",
       "    'support': 15012.0},\n",
       "   'weighted avg': {'precision': 0.7126273052024589,\n",
       "    'recall': 0.7549960031974421,\n",
       "    'f1-score': 0.7259564624966852,\n",
       "    'support': 15012.0}},\n",
       "  array([[10672,  1098],\n",
       "         [ 2580,   662]], dtype=int64)),\n",
       " ({'0': {'precision': 0.7968804159445407,\n",
       "    'recall': 0.9766355140186916,\n",
       "    'f1-score': 0.8776484061843863,\n",
       "    'support': 11770.0},\n",
       "   '1': {'precision': 0.5315161839863713,\n",
       "    'recall': 0.09623689080814313,\n",
       "    'f1-score': 0.16296683207103682,\n",
       "    'support': 3242.0},\n",
       "   'accuracy': 0.7865041300293099,\n",
       "   'macro avg': {'precision': 0.6641982999654561,\n",
       "    'recall': 0.5364362024134174,\n",
       "    'f1-score': 0.5203076191277116,\n",
       "    'support': 15012.0},\n",
       "   'weighted avg': {'precision': 0.7395722065115282,\n",
       "    'recall': 0.7865041300293099,\n",
       "    'f1-score': 0.723305369728519,\n",
       "    'support': 15012.0}},\n",
       "  array([[11495,   275],\n",
       "         [ 2930,   312]], dtype=int64)),\n",
       " ({'0': {'precision': 0.8102160788052113,\n",
       "    'recall': 0.8665250637213254,\n",
       "    'f1-score': 0.8374250759504064,\n",
       "    'support': 11770.0},\n",
       "   '1': {'precision': 0.3518976897689769,\n",
       "    'recall': 0.2631091918568785,\n",
       "    'f1-score': 0.3010942463819273,\n",
       "    'support': 3242.0},\n",
       "   'accuracy': 0.7362110311750599,\n",
       "   'macro avg': {'precision': 0.5810568842870941,\n",
       "    'recall': 0.564817127789102,\n",
       "    'f1-score': 0.5692596611661669,\n",
       "    'support': 15012.0},\n",
       "   'weighted avg': {'precision': 0.7112373806133999,\n",
       "    'recall': 0.7362110311750599,\n",
       "    'f1-score': 0.7215987670334726,\n",
       "    'support': 15012.0}},\n",
       "  array([[10199,  1571],\n",
       "         [ 2389,   853]], dtype=int64)))"
      ]
     },
     "execution_count": 118,
     "metadata": {},
     "output_type": "execute_result"
    }
   ],
   "source": [
    "knn_cm = confusion_matrix(y_test, knn_preds)\n",
    "svm_cm = confusion_matrix(y_test, svm_preds)\n",
    "nb_cm = confusion_matrix(y_test, nb_preds)\n",
    "\n",
    "(knn_report, knn_cm), (svm_report, svm_cm), (nb_report, nb_cm)"
   ]
  },
  {
   "cell_type": "code",
   "execution_count": 120,
   "id": "893dfc5a-477b-4610-aea4-a2ee8b112138",
   "metadata": {},
   "outputs": [],
   "source": [
    "# Extract F1 scores for class 1 (click)\n",
    "f1_scores = {\n",
    "    'KNN': knn_report['1']['f1-score'],\n",
    "    'SVM': svm_report['1']['f1-score'],\n",
    "    'Naive Bayes': nb_report['1']['f1-score']\n",
    "}\n"
   ]
  },
  {
   "cell_type": "code",
   "execution_count": 122,
   "id": "28246704-b444-4479-a353-36003d12540b",
   "metadata": {},
   "outputs": [
    {
     "data": {
      "image/png": "[encoded data removed]",
      "text/plain": [
       "<Figure size 800x500 with 1 Axes>"
      ]
     },
     "metadata": {},
     "output_type": "display_data"
    }
   ],
   "source": [
    "# Plot\n",
    "plt.figure(figsize=(8, 5))\n",
    "plt.bar(f1_scores.keys(), f1_scores.values())\n",
    "plt.title('F1 Score Comparison for Class 1 (Click)')\n",
    "plt.xlabel('Model')\n",
    "plt.ylabel('F1 Score')\n",
    "plt.ylim(0, 1)\n",
    "plt.grid(axis='y')\n",
    "plt.show()"
   ]
  },
  {
   "cell_type": "code",
   "execution_count": 124,
   "id": "05ffdf46-a7fa-4098-b860-4b24bf92403a",
   "metadata": {},
   "outputs": [
    {
     "data": {
      "image/png": "[encoded data removed]",
      "text/plain": [
       "<Figure size 600x500 with 2 Axes>"
      ]
     },
     "metadata": {},
     "output_type": "display_data"
    }
   ],
   "source": [
    "# Plot KNN\n",
    "plt.figure(figsize=(6, 5))\n",
    "sns.heatmap(knn_cm, annot=True, fmt=\"d\", cmap=\"Blues\")\n",
    "plt.title(\"KNN Confusion Matrix\")\n",
    "plt.xlabel(\"Predicted\")\n",
    "plt.ylabel(\"Actual\")\n",
    "plt.show()"
   ]
  },
  {
   "cell_type": "code",
   "execution_count": 126,
   "id": "dcd9094e-649f-4a2c-89c4-c0f4e115b531",
   "metadata": {},
   "outputs": [
    {
     "data": {
      "image/png": "[encoded data removed]",
      "text/plain": [
       "<Figure size 600x500 with 2 Axes>"
      ]
     },
     "metadata": {},
     "output_type": "display_data"
    }
   ],
   "source": [
    "# Plot SVM\n",
    "plt.figure(figsize=(6, 5))\n",
    "sns.heatmap(svm_cm, annot=True, fmt=\"d\", cmap=\"Blues\")\n",
    "plt.title(\"SVM Confusion Matrix\")\n",
    "plt.xlabel(\"Predicted\")\n",
    "plt.ylabel(\"Actual\")\n",
    "plt.show()"
   ]
  },
  {
   "cell_type": "code",
   "execution_count": 128,
   "id": "458bf0d2-4106-43ce-9100-530eceda6354",
   "metadata": {},
   "outputs": [
    {
     "data": {
      "image/png": "[encoded data removed]",
      "text/plain": [
       "<Figure size 600x500 with 2 Axes>"
      ]
     },
     "metadata": {},
     "output_type": "display_data"
    }
   ],
   "source": [
    "# Plot Naive Bayes\n",
    "plt.figure(figsize=(6, 5))\n",
    "sns.heatmap(nb_cm, annot=True, fmt=\"d\", cmap=\"Blues\")\n",
    "plt.title(\"Naive Bayes Confusion Matrix\")\n",
    "plt.xlabel(\"Predicted\")\n",
    "plt.ylabel(\"Actual\")\n",
    "plt.show()"
   ]
  },
  {
   "cell_type": "code",
   "execution_count": 136,
   "id": "32bc6fd2-a275-422a-af7c-e9c6d335354b",
   "metadata": {},
   "outputs": [
    {
     "data": {
      "text/plain": [
       "'/mnt/data/model_evaluation_summary.csv'"
      ]
     },
     "execution_count": 136,
     "metadata": {},
     "output_type": "execute_result"
    }
   ],
   "source": [
    "# Retry saving using a simplified approach\n",
    "f1_summary = pd.DataFrame({\n",
    "    'Model': ['KNN', 'SVM', 'Naive Bayes'],\n",
    "    'F1 Score (Class 1 - Click)': [\n",
    "        knn_report['1']['f1-score'],\n",
    "        svm_report['1']['f1-score'],\n",
    "        nb_report['1']['f1-score']\n",
    "    ],\n",
    "    'Precision (Class 1)': [\n",
    "        knn_report['1']['precision'],\n",
    "        svm_report['1']['precision'],\n",
    "        nb_report['1']['precision']\n",
    "    ],\n",
    "    'Recall (Class 1)': [\n",
    "        knn_report['1']['recall'],\n",
    "        svm_report['1']['recall'],\n",
    "        nb_report['1']['recall']\n",
    "    ],\n",
    "    'Accuracy': [\n",
    "        knn_report['accuracy'],\n",
    "        svm_report['accuracy'],\n",
    "        nb_report['accuracy']\n",
    "    ]\n",
    "})\n",
    "\n",
    "# Save summary only as CSV\n",
    "csv_path = \"/mnt/data/model_evaluation_summary.csv\"\n",
    "#f1_summary.to_csv(csv_path, index=False)\n",
    "f1_summary.to_csv(\"C:/Users/vidus/Documents/model_evaluation_summary.csv\", index=False)\n",
    "\n",
    "csv_path\n"
   ]
  },
  {
   "cell_type": "code",
   "execution_count": 138,
   "id": "f0ba3eaf-bb89-4d0c-b83a-96b65a6d1c73",
   "metadata": {},
   "outputs": [
    {
     "name": "stdout",
     "output_type": "stream",
     "text": [
      "File saved as model_evaluation_summary.csv\n"
     ]
    }
   ],
   "source": [
    "import pandas as pd\n",
    "\n",
    "# Create the summary DataFrame\n",
    "f1_summary = pd.DataFrame({\n",
    "    'Model': ['KNN', 'SVM', 'Naive Bayes'],\n",
    "    'F1 Score (Class 1 - Click)': [\n",
    "        knn_report['1']['f1-score'],\n",
    "        svm_report['1']['f1-score'],\n",
    "        nb_report['1']['f1-score']\n",
    "    ],\n",
    "    'Precision (Class 1)': [\n",
    "        knn_report['1']['precision'],\n",
    "        svm_report['1']['precision'],\n",
    "        nb_report['1']['precision']\n",
    "    ],\n",
    "    'Recall (Class 1)': [\n",
    "        knn_report['1']['recall'],\n",
    "        svm_report['1']['recall'],\n",
    "        nb_report['1']['recall']\n",
    "    ],\n",
    "    'Accuracy': [\n",
    "        knn_report['accuracy'],\n",
    "        svm_report['accuracy'],\n",
    "        nb_report['accuracy']\n",
    "    ]\n",
    "})\n",
    "\n",
    "# Save to CSV\n",
    "f1_summary.to_csv(\"model_evaluation_summary.csv\", index=False)\n",
    "print(\"File saved as model_evaluation_summary.csv\")\n"
   ]
  },
  {
   "cell_type": "markdown",
   "id": "df4ede9a-532b-414f-ad40-91585356793d",
   "metadata": {},
   "source": [
    "Does my data involve a time series or forecasting? If so, am I splitting the train\n",
    "and test data appropriately?\n",
    "\n",
    "- Click-Through Rate (CTR) prediction project, is a classification problem.\n",
    "- The features are likely user behavior, ad properties, or device metadata, and the target is binary (click = 0 or 1).\n",
    "\n",
    "If so, am I splitting the train and test data appropriately?\n",
    "- Since this is not time series, using train_test_split() is appropriate. "
   ]
  },
  {
   "cell_type": "code",
   "execution_count": 141,
   "id": "c70b9ae5-eeb4-4939-a32e-7eccaba23c57",
   "metadata": {},
   "outputs": [
    {
     "data": {
      "image/png": "[encoded data removed]",
      "text/plain": [
       "<Figure size 1000x600 with 1 Axes>"
      ]
     },
     "metadata": {},
     "output_type": "display_data"
    }
   ],
   "source": [
    "# identifying the most important features\n",
    "\n",
    "from sklearn.ensemble import RandomForestClassifier\n",
    "importances = None\n",
    "\n",
    "# Fit a Random Forest model for feature importance\n",
    "rf_model = RandomForestClassifier(n_estimators=100, random_state=42)\n",
    "rf_model.fit(X_train, y_train)\n",
    "\n",
    "# Get feature importances\n",
    "importances = rf_model.feature_importances_\n",
    "features = X_train.columns\n",
    "\n",
    "# Create a DataFrame to show importance scores\n",
    "feature_importance_df = pd.DataFrame({\n",
    "    'Feature': features,\n",
    "    'Importance': importances\n",
    "}).sort_values(by='Importance', ascending=False)\n",
    "\n",
    "import matplotlib.pyplot as plt\n",
    "\n",
    "# Plot top 10 features\n",
    "top_n = 10\n",
    "plt.figure(figsize=(10, 6))\n",
    "plt.barh(feature_importance_df['Feature'].head(top_n)[::-1],\n",
    "         feature_importance_df['Importance'].head(top_n)[::-1])\n",
    "plt.title(\"Top 10 Important Features for CTR Prediction\")\n",
    "plt.xlabel(\"Importance Score\")\n",
    "plt.ylabel(\"Feature\")\n",
    "plt.tight_layout()\n",
    "plt.show()\n"
   ]
  },
  {
   "cell_type": "markdown",
   "id": "fcece0f1-a175-4d36-b25e-2a209e2130b5",
   "metadata": {},
   "source": [
    "Influential Features in CTR Prediction are:\n",
    "\n",
    "1. device_ip — Highest importance (likely acting as a proxy for user identity or network).\n",
    "\n",
    "2. device_model — May capture differences in user behavior based on device capability.\n",
    "\n",
    "3. C14 — Possibly an ad category or campaign-related feature."
   ]
  },
  {
   "cell_type": "markdown",
   "id": "80bac30c-fa6b-4791-970d-aa48cd0e50fa",
   "metadata": {},
   "source": [
    "Is my response variable continuous or categorical?\n",
    "\n",
    "- Because we are predicting Click-Through Rate (CTR) as either:\n",
    "\n",
    "0 → No Click\n",
    "\n",
    "1 → Click\n",
    "\n",
    "This makes it a binary classification problem, not regression.\n",
    "\n"
   ]
  },
  {
   "cell_type": "markdown",
   "id": "c72d11e9-101a-44b4-b693-e0dd3107d698",
   "metadata": {},
   "source": [
    "\n",
    "Type: Categorical\n",
    "\n",
    "Levels: Binary (0 or 1)\n",
    "\n",
    "Modeling approach: Classification (e.g., Logistic Regression, Random Forest, SVM, KNN, etc.)"
   ]
  },
  {
   "cell_type": "markdown",
   "id": "c9a66c9c-795d-4bb7-a7ff-3b5bfa827e19",
   "metadata": {},
   "source": [
    "Conclusion:\n",
    "\n",
    "This project focused on predicting whether users will click on online advertisements using classification models. The response variable is categorical (binary: click or no-click), making this a supervised classification problem."
   ]
  },
  {
   "cell_type": "code",
   "execution_count": null,
   "id": "7c775da2-07da-4f2c-a8ba-1d2580c6001e",
   "metadata": {},
   "outputs": [],
   "source": []
  }
 ],
 "metadata": {
  "kernelspec": {
   "display_name": "Python 3 (ipykernel)",
   "language": "python",
   "name": "python3"
  },
  "language_info": {
   "codemirror_mode": {
    "name": "ipython",
    "version": 3
   },
   "file_extension": ".py",
   "mimetype": "text/x-python",
   "name": "python",
   "nbconvert_exporter": "python",
   "pygments_lexer": "ipython3",
   "version": "3.12.7"
  }
 },
 "nbformat": 4,
 "nbformat_minor": 5
}
