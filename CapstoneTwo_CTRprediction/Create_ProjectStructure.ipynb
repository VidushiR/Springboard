{
 "cells": [
  {
   "cell_type": "code",
   "execution_count": 1,
   "id": "274c4643-bbb4-4af8-8299-e1f410d62c48",
   "metadata": {},
   "outputs": [
    {
     "name": "stdout",
     "output_type": "stream",
     "text": [
      "CTR Prediction Project structure created successfully!\n"
     ]
    }
   ],
   "source": [
    "import os\n",
    "\n",
    "# Define folders\n",
    "folders = [\n",
    "    \"data/raw\",\n",
    "    \"data/processed\",\n",
    "    \"data/external\",\n",
    "    \"notebooks\",\n",
    "    \"models\",\n",
    "    \"scripts\",\n",
    "    \"reports/figures\",\n",
    "    \"config\"\n",
    "]\n",
    "\n",
    "# Create folders\n",
    "for folder in folders:\n",
    "    os.makedirs(folder, exist_ok=True)\n",
    "\n",
    "# Create empty files\n",
    "files = [\n",
    "    \"requirements.txt\",\n",
    "    \"README.md\",\n",
    "    \".gitignore\",\n",
    "    \"config/config.yaml\"\n",
    "]\n",
    "\n",
    "for file in files:\n",
    "    with open(file, 'w') as f:\n",
    "        pass\n",
    "\n",
    "print(\"CTR Prediction Project structure created successfully!\")\n"
   ]
  },
  {
   "cell_type": "code",
   "execution_count": null,
   "id": "a0630aef-f957-4a47-9a74-f056918ddbf8",
   "metadata": {},
   "outputs": [],
   "source": []
  }
 ],
 "metadata": {
  "kernelspec": {
   "display_name": "Python 3 (ipykernel)",
   "language": "python",
   "name": "python3"
  },
  "language_info": {
   "codemirror_mode": {
    "name": "ipython",
    "version": 3
   },
   "file_extension": ".py",
   "mimetype": "text/x-python",
   "name": "python",
   "nbconvert_exporter": "python",
   "pygments_lexer": "ipython3",
   "version": "3.12.7"
  }
 },
 "nbformat": 4,
 "nbformat_minor": 5
}
