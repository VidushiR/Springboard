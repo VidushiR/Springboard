{
 "cells": [
  {
   "cell_type": "markdown",
   "metadata": {},
   "source": [
    "# Frequentist Inference Case Study - Part B"
   ]
  },
  {
   "cell_type": "markdown",
   "metadata": {},
   "source": [
    "## Learning objectives"
   ]
  },
  {
   "cell_type": "markdown",
   "metadata": {},
   "source": [
    "Welcome to Part B of the Frequentist inference case study! The purpose of this case study is to help you apply the concepts associated with Frequentist inference in Python. In particular, you'll practice writing Python code to apply the following statistical concepts: \n",
    "* the _z_-statistic\n",
    "* the _t_-statistic\n",
    "* the difference and relationship between the two\n",
    "* the Central Limit Theorem, including its assumptions and consequences\n",
    "* how to estimate the population mean and standard deviation from a sample\n",
    "* the concept of a sampling distribution of a test statistic, particularly for the mean\n",
    "* how to combine these concepts to calculate a confidence interval"
   ]
  },
  {
   "cell_type": "markdown",
   "metadata": {},
   "source": [
    "In the previous notebook, we used only data from a known normal distribution. **You'll now tackle real data, rather than simulated data, and answer some relevant real-world business problems using the data.**"
   ]
  },
  {
   "cell_type": "markdown",
   "metadata": {},
   "source": [
    "## Hospital medical charges"
   ]
  },
  {
   "cell_type": "markdown",
   "metadata": {},
   "source": [
    "Imagine that a hospital has hired you as their data scientist. An administrator is working on the hospital's business operations plan and needs you to help them answer some business questions. \n",
    "\n",
    "In this assignment notebook, you're going to use frequentist statistical inference on a data sample to answer the questions:\n",
    "* has the hospital's revenue stream fallen below a key threshold?\n",
    "* are patients with insurance really charged different amounts than those without?\n",
    "\n",
    "Answering that last question with a frequentist approach makes some assumptions, and requires some knowledge, about the two groups."
   ]
  },
  {
   "cell_type": "markdown",
   "metadata": {},
   "source": [
    "We are going to use some data on medical charges obtained from [Kaggle](https://www.kaggle.com/easonlai/sample-insurance-claim-prediction-dataset). \n",
    "\n",
    "For the purposes of this exercise, assume the observations are the result of random sampling from our single hospital. Recall that in the previous assignment, we introduced the Central Limit Theorem (CLT), and its consequence that the distributions of sample statistics approach a normal distribution as $n$ increases. The amazing thing about this is that it applies to the sampling distributions of statistics that have been calculated from even highly non-normal distributions of data! Recall, also, that hypothesis testing is very much based on making inferences about such sample statistics. You're going to rely heavily on the CLT to apply frequentist (parametric) tests to answer the questions in this notebook."
   ]
  },
  {
   "cell_type": "code",
   "execution_count": 176,
   "metadata": {},
   "outputs": [],
   "source": [
    "import pandas as pd\n",
    "import statistics\n",
    "import numpy as np\n",
    "import matplotlib.pyplot as plt\n",
    "from scipy.stats import t\n",
    "from scipy import stats\n",
    "from numpy.random import seed\n",
    "medical = pd.read_csv('insurance2.csv')"
   ]
  },
  {
   "cell_type": "code",
   "execution_count": 55,
   "metadata": {},
   "outputs": [
    {
     "data": {
      "text/plain": [
       "(1338, 8)"
      ]
     },
     "execution_count": 55,
     "metadata": {},
     "output_type": "execute_result"
    }
   ],
   "source": [
    "medical.shape"
   ]
  },
  {
   "cell_type": "code",
   "execution_count": 57,
   "metadata": {},
   "outputs": [
    {
     "data": {
      "text/html": [
       "<div>\n",
       "<style scoped>\n",
       "    .dataframe tbody tr th:only-of-type {\n",
       "        vertical-align: middle;\n",
       "    }\n",
       "\n",
       "    .dataframe tbody tr th {\n",
       "        vertical-align: top;\n",
       "    }\n",
       "\n",
       "    .dataframe thead th {\n",
       "        text-align: right;\n",
       "    }\n",
       "</style>\n",
       "<table border=\"1\" class=\"dataframe\">\n",
       "  <thead>\n",
       "    <tr style=\"text-align: right;\">\n",
       "      <th></th>\n",
       "      <th>age</th>\n",
       "      <th>sex</th>\n",
       "      <th>bmi</th>\n",
       "      <th>children</th>\n",
       "      <th>smoker</th>\n",
       "      <th>region</th>\n",
       "      <th>charges</th>\n",
       "      <th>insuranceclaim</th>\n",
       "    </tr>\n",
       "  </thead>\n",
       "  <tbody>\n",
       "    <tr>\n",
       "      <th>0</th>\n",
       "      <td>19</td>\n",
       "      <td>0</td>\n",
       "      <td>27.900</td>\n",
       "      <td>0</td>\n",
       "      <td>1</td>\n",
       "      <td>3</td>\n",
       "      <td>16884.92400</td>\n",
       "      <td>1</td>\n",
       "    </tr>\n",
       "    <tr>\n",
       "      <th>1</th>\n",
       "      <td>18</td>\n",
       "      <td>1</td>\n",
       "      <td>33.770</td>\n",
       "      <td>1</td>\n",
       "      <td>0</td>\n",
       "      <td>2</td>\n",
       "      <td>1725.55230</td>\n",
       "      <td>1</td>\n",
       "    </tr>\n",
       "    <tr>\n",
       "      <th>2</th>\n",
       "      <td>28</td>\n",
       "      <td>1</td>\n",
       "      <td>33.000</td>\n",
       "      <td>3</td>\n",
       "      <td>0</td>\n",
       "      <td>2</td>\n",
       "      <td>4449.46200</td>\n",
       "      <td>0</td>\n",
       "    </tr>\n",
       "    <tr>\n",
       "      <th>3</th>\n",
       "      <td>33</td>\n",
       "      <td>1</td>\n",
       "      <td>22.705</td>\n",
       "      <td>0</td>\n",
       "      <td>0</td>\n",
       "      <td>1</td>\n",
       "      <td>21984.47061</td>\n",
       "      <td>0</td>\n",
       "    </tr>\n",
       "    <tr>\n",
       "      <th>4</th>\n",
       "      <td>32</td>\n",
       "      <td>1</td>\n",
       "      <td>28.880</td>\n",
       "      <td>0</td>\n",
       "      <td>0</td>\n",
       "      <td>1</td>\n",
       "      <td>3866.85520</td>\n",
       "      <td>1</td>\n",
       "    </tr>\n",
       "  </tbody>\n",
       "</table>\n",
       "</div>"
      ],
      "text/plain": [
       "   age  sex     bmi  children  smoker  region      charges  insuranceclaim\n",
       "0   19    0  27.900         0       1       3  16884.92400               1\n",
       "1   18    1  33.770         1       0       2   1725.55230               1\n",
       "2   28    1  33.000         3       0       2   4449.46200               0\n",
       "3   33    1  22.705         0       0       1  21984.47061               0\n",
       "4   32    1  28.880         0       0       1   3866.85520               1"
      ]
     },
     "execution_count": 57,
     "metadata": {},
     "output_type": "execute_result"
    }
   ],
   "source": [
    "medical.head()"
   ]
  },
  {
   "cell_type": "markdown",
   "metadata": {},
   "source": [
    "__Q1:__ Plot the histogram of charges and calculate the mean and standard deviation. Comment on the appropriateness of these statistics for the data."
   ]
  },
  {
   "cell_type": "markdown",
   "metadata": {},
   "source": [
    "__A:__ Mean of charges: This represents the average cost of medical charges across all individuals in the dataset.\n",
    "\n",
    "Standard deviation of charges: This measures the variability of the charges around the mean.\n",
    "\n",
    "Based on the calculation, \n",
    "Mean Charges: 13270.422265141257\n",
    "\n",
    "And\n",
    "\n",
    "STD charges : 12110.011236694001\n",
    "\n",
    "While the mean and standard deviation provide useful information, they are not the best statistics for skewed data.\n",
    "A boxplot or median and IQR would be better alternatives to summarize this dataset effectively."
   ]
  },
  {
   "cell_type": "code",
   "execution_count": 131,
   "metadata": {},
   "outputs": [
    {
     "data": {
      "image/png": "[encoded data removed]",
      "text/plain": [
       "<Figure size 640x480 with 1 Axes>"
      ]
     },
     "metadata": {},
     "output_type": "display_data"
    }
   ],
   "source": [
    "_ = medical['charges'].hist(bins=20)"
   ]
  },
  {
   "cell_type": "code",
   "execution_count": 133,
   "metadata": {},
   "outputs": [
    {
     "data": {
      "image/png": "[encoded data removed]",
      "text/plain": [
       "<Figure size 640x480 with 1 Axes>"
      ]
     },
     "metadata": {},
     "output_type": "display_data"
    }
   ],
   "source": [
    "# Plot histogram of the 'charges' column\n",
    "plt.hist(medical['charges'], bins=20, color='c', edgecolor='k')\n",
    "plt.xlabel(\"Charges\")\n",
    "plt.ylabel(\"Frequency\")\n",
    "plt.title(\"Histogram of Charges\")\n",
    "plt.show()\n"
   ]
  },
  {
   "cell_type": "code",
   "execution_count": 135,
   "metadata": {},
   "outputs": [
    {
     "name": "stdout",
     "output_type": "stream",
     "text": [
      "Mean Charges: 13270.422265141257\n",
      "STD charges : 12110.011236694001\n"
     ]
    }
   ],
   "source": [
    "# Calculate mean and standard deviation for 'charges' column\n",
    "n = statistics.mean(medical['charges'])\n",
    "sd = statistics.stdev(medical['charges'])\n",
    "\n",
    "print('Mean Charges:', n)\n",
    "print('STD charges :', sd)"
   ]
  },
  {
   "cell_type": "code",
   "execution_count": 137,
   "metadata": {},
   "outputs": [
    {
     "data": {
      "image/png": "[encoded data removed]",
      "text/plain": [
       "<Figure size 640x480 with 1 Axes>"
      ]
     },
     "metadata": {},
     "output_type": "display_data"
    }
   ],
   "source": [
    "# Calculate mean and standard deviation for 'charges' column\n",
    "n = statistics.mean(medical['charges'])\n",
    "sd = statistics.stdev(medical['charges'])\n",
    "\n",
    "# Plot histogram again with a vertical line for mean\n",
    "plt.hist(medical['charges'], bins=50, color='c', edgecolor='k')\n",
    "\n",
    "plt.axvline(n, color='k', linestyle='dashed', linewidth=2, label=f\"Mean: {n:.2f}\")\n",
    "\n",
    "plt.xlabel(\"Charges\")\n",
    "plt.ylabel(\"Frequency\")\n",
    "plt.title(\"Histogram with Mean Line\")\n",
    "plt.legend()\n",
    "plt.show()"
   ]
  },
  {
   "cell_type": "code",
   "execution_count": 139,
   "metadata": {},
   "outputs": [
    {
     "data": {
      "image/png": "[encoded data removed]",
      "text/plain": [
       "<Figure size 640x480 with 1 Axes>"
      ]
     },
     "metadata": {},
     "output_type": "display_data"
    }
   ],
   "source": [
    "# Plot histogram again with a vertical line for mean\n",
    "plt.hist(medical['charges'], bins=50, color='c', edgecolor='k')\n",
    "\n",
    "plt.axvline(n, color='y', linestyle='dashed', linewidth=2)\n",
    "\n",
    "plt.axvline(n + sd, color='blue', linestyle='dashed', linewidth=3)\n",
    "plt.axvline(n - sd, color = 'blue', linestyle='dashed', linewidth=3)\n",
    "\n",
    "plt.xlabel(\"Charges\")\n",
    "plt.ylabel(\"Frequency\")\n",
    "plt.title(\"FIrst Histogram with Mean plus Line\")\n",
    "#plt.legend()\n",
    "plt.show()"
   ]
  },
  {
   "cell_type": "markdown",
   "metadata": {},
   "source": [
    "__Q2:__ The administrator is concerned that the actual average charge has fallen below 12,000, threatening the hospital's operational model. On the assumption that these data represent a random sample of charges, how would you justify that these data allow you to answer that question? And what would be the most appropriate frequentist test, of the ones discussed so far, to apply?"
   ]
  },
  {
   "cell_type": "markdown",
   "metadata": {},
   "source": [
    "__A:__ The dataset represents a random sample of medical charges, which allows us to make inferences about the population.\n",
    "\n",
    "Based on the calculation, the sample Mean Charges is: 13270.422265141257\n",
    "And STD charges is: 12110.011236694001\n",
    "\n",
    "Since we are interested in whether the true average charge has fallen below $12,000, we can use hypothesis testing to assess this claim.\n",
    "\n",
    "Given that we have a single sample and are testing a hypothesis about the population mean, the appropriate test is the one-sample t-test.\n",
    "\n",
    "The one-sample t-test is the most appropriate frequentist test.\n",
    "\n",
    "We would compute the t-statistic and corresponding p-value.\n",
    "\n",
    "If the p-value is small (e.g., 𝑝 < 0.05 p<0.05), we reject 𝐻0H0​\n",
    "  and conclude that the average charge has fallen below $12,000.\n",
    "\n",
    "If the p-value is large, we fail to reject 𝐻0H0​  , meaning there is not enough evidence to claim the average charge is below $12,000.\n",
    "\n"
   ]
  },
  {
   "cell_type": "markdown",
   "metadata": {},
   "source": [
    "__Q3:__ Given the nature of the administrator's concern, what is the appropriate confidence interval in this case? A ***one-sided*** or ***two-sided*** interval? (Refresh your understanding of this concept on p. 399 of the *AoS*). Calculate the critical value and the relevant 95% confidence interval for the mean, and comment on whether the administrator should be concerned."
   ]
  },
  {
   "cell_type": "markdown",
   "metadata": {},
   "source": [
    "__A:__ Based on the calculation, Critical t-value is: 1.6459941145571317\n",
    "And Lower bound of 95% confidence interval: 12725.48718381623.\n",
    "\n",
    "The administrator should not be concern as the confidence interval predicts that in 95% of cases the average charge will be above $12,000."
   ]
  },
  {
   "cell_type": "code",
   "execution_count": 142,
   "metadata": {},
   "outputs": [],
   "source": [
    "# Load the dataset\n",
    "file_path = \"insurance2.csv\"  # Update this path if needed\n",
    "medical = pd.read_csv(file_path)\n",
    "\n",
    "# Extract the 'charges' column\n",
    "charges = medical['charges']\n",
    "\n",
    "# Calculate sample statistics\n",
    "n = len(charges)  # Sample size\n",
    "mean_charges = np.mean(charges)  # Sample mean\n",
    "std_charges = np.std(charges, ddof=1)  # Sample standard deviation\n"
   ]
  },
  {
   "cell_type": "code",
   "execution_count": 146,
   "metadata": {},
   "outputs": [],
   "source": [
    "\n",
    "# Define confidence level\n",
    "confidence_level = 0.95\n",
    "\n",
    "# Calculate the critical t-value for a one-sided confidence interval\n",
    "alpha = 1 - confidence_level  # Significance level for one-sided CI\n",
    "t_critical = t.ppf(1 - alpha, df=n-1)  # One-tailed critical value\n"
   ]
  },
  {
   "cell_type": "code",
   "execution_count": 148,
   "metadata": {},
   "outputs": [
    {
     "name": "stdout",
     "output_type": "stream",
     "text": [
      "Critical t-value: 1.6459941145571317\n",
      "Lower bound of 95% confidence interval: 12725.48718381623\n"
     ]
    }
   ],
   "source": [
    "\n",
    "# Compute the margin of error for one-sided confidence interval\n",
    "margin_of_error = t_critical * (std_charges / np.sqrt(n))\n",
    "\n",
    "# Compute the lower bound of the confidence interval (one-sided)\n",
    "lower_bound = mean_charges - margin_of_error\n",
    "\n",
    "# Display results\n",
    "print(f\"Critical t-value: {t_critical}\")\n",
    "print(f\"Lower bound of 95% confidence interval: {lower_bound}\")"
   ]
  },
  {
   "cell_type": "markdown",
   "metadata": {},
   "source": [
    "The administrator then wants to know whether people with insurance really are charged a different amount to those without.\n",
    "\n",
    "__Q4:__ State the null and alternative hypothesis here. Use the _t_-test for the difference between means, where the pooled standard deviation of the two groups is given by:\n",
    "\\begin{equation}\n",
    "s_p = \\sqrt{\\frac{(n_0 - 1)s^2_0 + (n_1 - 1)s^2_1}{n_0 + n_1 - 2}}\n",
    "\\end{equation}\n",
    "\n",
    "and the *t*-test statistic is then given by:\n",
    "\n",
    "\\begin{equation}\n",
    "t = \\frac{\\bar{x}_0 - \\bar{x}_1}{s_p \\sqrt{1/n_0 + 1/n_1}}.\n",
    "\\end{equation}\n",
    "\n",
    "(If you need some reminding of the general definition of ***t-statistic***, check out the definition on p. 404 of *AoS*). \n",
    "\n",
    "What assumption about the variances of the two groups are we making here?"
   ]
  },
  {
   "cell_type": "markdown",
   "metadata": {},
   "source": [
    "__A:__ \n",
    "Number of insured: 783, Number of uninsured: 555.\n",
    "\n",
    "Pooled standard deviation: 11520.034268775256\n",
    "t-statistic: 11.893299030876715\n",
    "Degrees of freedom: 1336\n",
    "P-value: 0.0\n",
    "\n",
    "Since the p-value is less than 0.05, we reject the null hypothesis and conclude that there is a statistically significant difference in the charges between the insured and uninsured groups.\n",
    "\n",
    "This suggests that individuals with insurance are charged significantly different amounts than those without insurance."
   ]
  },
  {
   "cell_type": "code",
   "execution_count": 167,
   "metadata": {},
   "outputs": [
    {
     "name": "stdout",
     "output_type": "stream",
     "text": [
      "Index(['age', 'sex', 'bmi', 'children', 'smoker', 'region', 'charges',\n",
      "       'insuranceclaim'],\n",
      "      dtype='object')\n"
     ]
    }
   ],
   "source": [
    "# find out columns name to get insured data column \n",
    "print(medical.columns)\n"
   ]
  },
  {
   "cell_type": "code",
   "execution_count": 169,
   "metadata": {},
   "outputs": [
    {
     "name": "stdout",
     "output_type": "stream",
     "text": [
      "Number of insured: 783, Number of uninsured: 555\n"
     ]
    }
   ],
   "source": [
    "# Split data into insured and uninsured groups based on 'insuranceclaim'\n",
    "insured = medical['charges'][medical['insuranceclaim'] == 1]  # 1 indicates insured\n",
    "uninsured = medical['charges'][medical['insuranceclaim'] == 0]  # 0 indicates uninsured\n",
    "\n",
    "# Calculate sample sizes\n",
    "n0 = len(insured)\n",
    "n1 = len(uninsured)\n",
    "\n",
    "print(f\"Number of insured: {n0}, Number of uninsured: {n1}\")\n"
   ]
  },
  {
   "cell_type": "code",
   "execution_count": 171,
   "metadata": {},
   "outputs": [
    {
     "name": "stdout",
     "output_type": "stream",
     "text": [
      "Pooled standard deviation: 11520.034268775256\n",
      "t-statistic: 11.893299030876715\n",
      "Degrees of freedom: 1336\n",
      "P-value: 0.0\n",
      "We reject the null hypothesis: There is a significant difference in charges between insured and uninsured individuals.\n"
     ]
    }
   ],
   "source": [
    "\n",
    "\n",
    "# Calculate sample means\n",
    "x0_bar = np.mean(insured)\n",
    "x1_bar = np.mean(uninsured)\n",
    "\n",
    "# Calculate sample standard deviations\n",
    "s0 = np.std(insured, ddof=1)\n",
    "s1 = np.std(uninsured, ddof=1)\n",
    "\n",
    "# Calculate pooled standard deviation\n",
    "sp = np.sqrt(((n0 - 1) * s0**2 + (n1 - 1) * s1**2) / (n0 + n1 - 2))\n",
    "\n",
    "# Calculate t-statistic\n",
    "t_stat = (x0_bar - x1_bar) / (sp * np.sqrt(1/n0 + 1/n1))\n",
    "\n",
    "# Degrees of freedom\n",
    "df = n0 + n1 - 2\n",
    "\n",
    "# Compute two-tailed p-value\n",
    "p_value = 2 * (1 - t.cdf(abs(t_stat), df))\n",
    "\n",
    "# Display results\n",
    "print(f\"Pooled standard deviation: {sp}\")\n",
    "print(f\"t-statistic: {t_stat}\")\n",
    "print(f\"Degrees of freedom: {df}\")\n",
    "print(f\"P-value: {p_value}\")\n",
    "\n",
    "# Interpretation\n",
    "alpha = 0.05  # 5% significance level\n",
    "if p_value < alpha:\n",
    "    print(\"We reject the null hypothesis: There is a significant difference in charges between insured and uninsured individuals.\")\n",
    "else:\n",
    "    print(\"We fail to reject the null hypothesis: There is no significant difference in charges between insured and uninsured individuals.\")\n"
   ]
  },
  {
   "cell_type": "markdown",
   "metadata": {},
   "source": [
    "__Q5:__ Perform this hypothesis test both manually, using the above formulae, and then using the appropriate function from [scipy.stats](https://docs.scipy.org/doc/scipy/reference/stats.html#statistical-tests) (hint, you're looking for a function to perform a _t_-test on two independent samples). For the manual approach, calculate the value of the test statistic and then its probability (the p-value). Verify you get the same results from both."
   ]
  },
  {
   "cell_type": "markdown",
   "metadata": {},
   "source": [
    "__A:__ Manual Approach:\n",
    "Pooled standard deviation: 11520.034268775256\n",
    "t-statistic: 11.893299030876715\n",
    "Degrees of freedom: 1336\n",
    "P-value: 0.0\n",
    "\n",
    "Scipy Approach:\n",
    "t-statistic: 11.893299030876712\n",
    "P-value: 4.461230231620717e-31\n",
    "\n",
    "The results from both methods are the same!"
   ]
  },
  {
   "cell_type": "code",
   "execution_count": 181,
   "metadata": {},
   "outputs": [],
   "source": [
    "\n",
    "# Assuming we already have the insured and uninsured groups (charges for both)\n",
    "# insured = medical['charges'][medical['insuranceclaim'] == 1]  # 1 indicates insured\n",
    "# uninsured = medical['charges'][medical['insuranceclaim'] == 0]  # 0 indicates uninsured\n",
    "\n",
    "# Sample sizes\n",
    "n0 = len(insured)\n",
    "n1 = len(uninsured)\n",
    "\n",
    "# Sample means\n",
    "x0_bar = np.mean(insured)\n",
    "x1_bar = np.mean(uninsured)\n",
    "\n",
    "# Sample standard deviations\n",
    "s0 = np.std(insured, ddof=1)\n",
    "s1 = np.std(uninsured, ddof=1)\n",
    "\n",
    "# Pooled standard deviation\n",
    "sp = np.sqrt(((n0 - 1) * s0**2 + (n1 - 1) * s1**2) / (n0 + n1 - 2))\n"
   ]
  },
  {
   "cell_type": "code",
   "execution_count": 183,
   "metadata": {},
   "outputs": [
    {
     "name": "stdout",
     "output_type": "stream",
     "text": [
      "Manual Approach:\n",
      "Pooled standard deviation: 11520.034268775256\n",
      "t-statistic: 11.893299030876715\n",
      "Degrees of freedom: 1336\n",
      "P-value: 0.0\n",
      "\n",
      "Scipy Approach:\n",
      "t-statistic: 11.893299030876712\n",
      "P-value: 4.461230231620717e-31\n",
      "\n",
      "The results from both methods are the same!\n"
     ]
    }
   ],
   "source": [
    "\n",
    "# t-statistic\n",
    "t_stat = (x0_bar - x1_bar) / (sp * np.sqrt(1/n0 + 1/n1))\n",
    "\n",
    "# Degrees of freedom\n",
    "df = n0 + n1 - 2\n",
    "\n",
    "# p-value using the t-distribution (two-tailed test)\n",
    "p_value_manual = 2 * (1 - stats.t.cdf(abs(t_stat), df))\n",
    "\n",
    "# Print manual results\n",
    "print(f\"Manual Approach:\")\n",
    "print(f\"Pooled standard deviation: {sp}\")\n",
    "print(f\"t-statistic: {t_stat}\")\n",
    "print(f\"Degrees of freedom: {df}\")\n",
    "print(f\"P-value: {p_value_manual}\")\n",
    "\n",
    "# Now using scipy.stats.ttest_ind() for comparison\n",
    "t_stat_scipy, p_value_scipy = stats.ttest_ind(insured, uninsured, equal_var=True)\n",
    "\n",
    "# Print scipy results\n",
    "print(\"\\nScipy Approach:\")\n",
    "print(f\"t-statistic: {t_stat_scipy}\")\n",
    "print(f\"P-value: {p_value_scipy}\")\n",
    "\n",
    "# Compare results\n",
    "if np.isclose(t_stat, t_stat_scipy) and np.isclose(p_value_manual, p_value_scipy):\n",
    "    print(\"\\nThe results from both methods are the same!\")\n",
    "else:\n",
    "    print(\"\\nThe results from both methods are different.\")\n"
   ]
  },
  {
   "cell_type": "markdown",
   "metadata": {},
   "source": [
    "Congratulations! Hopefully you got the exact same numerical results. This shows that you correctly calculated the numbers by hand. Secondly, you used the correct function and saw that it's much easier to use. All you need to do is pass your data to it."
   ]
  },
  {
   "cell_type": "markdown",
   "metadata": {},
   "source": [
    "__Q6:__ Conceptual question: look through the documentation for statistical test functions in scipy.stats. You'll see the above _t_-test for a sample, but can you see an equivalent one for performing a *z*-test from a sample? Comment on your answer."
   ]
  },
  {
   "cell_type": "markdown",
   "metadata": {},
   "source": [
    "__A:__\n",
    "z-statistic is : 2.7386127875258306\n",
    "and \n",
    "\n",
    "P-value is : 0.0061698993205441255\n",
    "\n",
    "The t-test is more commonly used in practice due to its robustness in cases where the population variance is unknown and because it works well for smaller sample sizes. For large sample sizes, the t-distribution approximates the z-distribution, making the two tests similar in their results."
   ]
  },
  {
   "cell_type": "code",
   "execution_count": 188,
   "metadata": {},
   "outputs": [
    {
     "name": "stdout",
     "output_type": "stream",
     "text": [
      "z-statistic: 2.7386127875258306\n",
      "P-value: 0.0061698993205441255\n"
     ]
    }
   ],
   "source": [
    "from scipy.stats import norm\n",
    "\n",
    "# Example values\n",
    "sample_mean = 50\n",
    "population_mean = 45\n",
    "population_std = 10  # Population standard deviation (if known)\n",
    "sample_size = 30\n",
    "\n",
    "# Calculate z-statistic\n",
    "z_stat = (sample_mean - population_mean) / (population_std / np.sqrt(sample_size))\n",
    "\n",
    "# Calculate p-value (two-tailed test)\n",
    "p_value = 2 * (1 - norm.cdf(abs(z_stat)))\n",
    "\n",
    "print(f\"z-statistic: {z_stat}\")\n",
    "print(f\"P-value: {p_value}\")\n"
   ]
  },
  {
   "cell_type": "markdown",
   "metadata": {},
   "source": [
    "## Learning outcomes"
   ]
  },
  {
   "cell_type": "markdown",
   "metadata": {},
   "source": [
    "Having completed this project notebook, you now have good hands-on experience:\n",
    "* using the central limit theorem to help you apply frequentist techniques to answer questions that pertain to very non-normally distributed data from the real world\n",
    "* performing inference using such data to answer business questions\n",
    "* forming a hypothesis and framing the null and alternative hypotheses\n",
    "* testing this using a _t_-test"
   ]
  }
 ],
 "metadata": {
  "kernelspec": {
   "display_name": "Python 3 (ipykernel)",
   "language": "python",
   "name": "python3"
  },
  "language_info": {
   "codemirror_mode": {
    "name": "ipython",
    "version": 3
   },
   "file_extension": ".py",
   "mimetype": "text/x-python",
   "name": "python",
   "nbconvert_exporter": "python",
   "pygments_lexer": "ipython3",
   "version": "3.12.7"
  }
 },
 "nbformat": 4,
 "nbformat_minor": 4
}
